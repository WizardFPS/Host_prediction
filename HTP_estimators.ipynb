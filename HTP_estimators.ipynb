{
 "cells": [
  {
   "cell_type": "code",
   "execution_count": 1,
   "id": "47026aed",
   "metadata": {},
   "outputs": [],
   "source": [
    "from sklearn.linear_model import LogisticRegression\n",
    "from sklearn import linear_model\n",
    "from sklearn.model_selection import GridSearchCV\n",
    "from sklearn.metrics import f1_score, classification_report\n",
    "from sklearn.preprocessing import StandardScaler, LabelEncoder, LabelBinarizer\n",
    "from sklearn.svm import SVC\n",
    "\n",
    "import pandas as pd\n",
    "import numpy as np\n",
    "import pickle"
   ]
  },
  {
   "cell_type": "code",
   "execution_count": 2,
   "id": "f1c69964",
   "metadata": {},
   "outputs": [],
   "source": [
    "PATH = \"/home/parazit/ml_virus_host/v2.0/\"\n",
    "PATH_FEATURES = PATH + \"v3.0/baseline/htp/features/\"\n",
    "PATH_SAMPLE_IDS = PATH + \"sample_ids/genomes_fragments_connected/\"\n",
    "PATH_DATA = PATH + \"data/\""
   ]
  },
  {
   "cell_type": "code",
   "execution_count": 3,
   "id": "f5903798",
   "metadata": {},
   "outputs": [],
   "source": [
    "meta_df_genomes = pd.read_csv(PATH_DATA+\"data_table.tsv\", sep=\"\\t\", index_col=0)\n",
    "meta_df_800 = pd.read_csv(PATH_DATA+\"data_table_800.tsv\", sep=\"\\t\", index_col=0)\n",
    "meta_df_400 = pd.read_csv(PATH_DATA+\"data_table_400.tsv\", sep=\"\\t\", index_col=0)"
   ]
  },
  {
   "cell_type": "code",
   "execution_count": 4,
   "id": "9c597e5d",
   "metadata": {},
   "outputs": [],
   "source": [
    "sample_ids_genomes = pickle.load(open(PATH_SAMPLE_IDS+\"train_val_test_genomes.pkl\", \"rb\"))\n",
    "sample_ids_800 = pickle.load(open(PATH_SAMPLE_IDS+\"train_val_test_800.pkl\", \"rb\"))\n",
    "sample_ids_400 = pickle.load(open(PATH_SAMPLE_IDS+\"train_val_test_400.pkl\", \"rb\"))"
   ]
  },
  {
   "cell_type": "markdown",
   "id": "95255b21",
   "metadata": {},
   "source": [
    "Функция подбора параметров моделей"
   ]
  },
  {
   "cell_type": "code",
   "execution_count": 5,
   "id": "e0ee3ef0",
   "metadata": {},
   "outputs": [],
   "source": [
    "def find_best_model(X, y, clf, param_grid):\n",
    "    model = GridSearchCV(estimator = clf, param_grid = param_grid, cv=5, verbose=10, scoring=\"f1_weighted\", n_jobs = -1)\n",
    "    model.fit(X,y)\n",
    "    print('Best weighted f1-score of Grid search: {}'.format(model.best_score_))\n",
    "    print(\"Best model parameters of Grid search: {}\".format(model.best_params_))\n",
    "    return model.best_estimator_"
   ]
  },
  {
   "cell_type": "markdown",
   "id": "6471890e",
   "metadata": {},
   "source": [
    "Функция выделения X (признаки) и y (целевая переменная)"
   ]
  },
  {
   "cell_type": "code",
   "execution_count": 6,
   "id": "849e1e35",
   "metadata": {},
   "outputs": [],
   "source": [
    "def get_X_y(name, meta_df):\n",
    "    \n",
    "    df = pd.read_csv(PATH_FEATURES+name+\"_features.tsv\", sep=\"\\t\", index_col=0)\n",
    "    y = meta_df.loc[df.index].host.values\n",
    "    X = StandardScaler().fit_transform(df.values) # шкалирвоание проводится внутри функции\n",
    "    \n",
    "    return X, y"
   ]
  },
  {
   "cell_type": "markdown",
   "id": "e60d3bd9",
   "metadata": {},
   "source": [
    "# Обучение на геномах, тестирование на выборках геномов и фрагментов"
   ]
  },
  {
   "cell_type": "markdown",
   "id": "f068322c",
   "metadata": {},
   "source": [
    "## Логистическая регрессия"
   ]
  },
  {
   "cell_type": "markdown",
   "id": "a1aa0a50",
   "metadata": {},
   "source": [
    "Перебор параметров"
   ]
  },
  {
   "cell_type": "code",
   "execution_count": 7,
   "id": "6c60355b",
   "metadata": {},
   "outputs": [],
   "source": [
    "param_grid = {\n",
    "                \"penalty\":[\"l1\"], \n",
    "                \"C\": [1, 10, 100, 1000],\n",
    "                \"solver\": [\"liblinear\", \"saga\"],\n",
    "                \"class_weight\" : [\"balanced\"],\n",
    "                \"max_iter\": [300]\n",
    "             }"
   ]
  },
  {
   "cell_type": "markdown",
   "id": "723dd1af",
   "metadata": {},
   "source": [
    "Выделям тренировочную выборку, обучаем логистическую регрессию"
   ]
  },
  {
   "cell_type": "code",
   "execution_count": 8,
   "id": "30e1c0bc",
   "metadata": {
    "scrolled": true
   },
   "outputs": [
    {
     "name": "stdout",
     "output_type": "stream",
     "text": [
      "Fitting 5 folds for each of 8 candidates, totalling 40 fits\n"
     ]
    },
    {
     "name": "stderr",
     "output_type": "stream",
     "text": [
      "/home/parazit/anaconda3/lib/python3.9/site-packages/sklearn/linear_model/_sag.py:350: ConvergenceWarning: The max_iter was reached which means the coef_ did not converge\n",
      "  warnings.warn(\n",
      "/home/parazit/anaconda3/lib/python3.9/site-packages/sklearn/linear_model/_sag.py:350: ConvergenceWarning: The max_iter was reached which means the coef_ did not converge\n",
      "  warnings.warn(\n",
      "/home/parazit/anaconda3/lib/python3.9/site-packages/sklearn/linear_model/_sag.py:350: ConvergenceWarning: The max_iter was reached which means the coef_ did not converge\n",
      "  warnings.warn(\n",
      "/home/parazit/anaconda3/lib/python3.9/site-packages/sklearn/linear_model/_sag.py:350: ConvergenceWarning: The max_iter was reached which means the coef_ did not converge\n",
      "  warnings.warn(\n",
      "/home/parazit/anaconda3/lib/python3.9/site-packages/sklearn/linear_model/_sag.py:350: ConvergenceWarning: The max_iter was reached which means the coef_ did not converge\n",
      "  warnings.warn(\n",
      "/home/parazit/anaconda3/lib/python3.9/site-packages/sklearn/linear_model/_sag.py:350: ConvergenceWarning: The max_iter was reached which means the coef_ did not converge\n",
      "  warnings.warn(\n",
      "/home/parazit/anaconda3/lib/python3.9/site-packages/sklearn/linear_model/_sag.py:350: ConvergenceWarning: The max_iter was reached which means the coef_ did not converge\n",
      "  warnings.warn(\n",
      "/home/parazit/anaconda3/lib/python3.9/site-packages/sklearn/linear_model/_sag.py:350: ConvergenceWarning: The max_iter was reached which means the coef_ did not converge\n",
      "  warnings.warn(\n",
      "/home/parazit/anaconda3/lib/python3.9/site-packages/sklearn/linear_model/_sag.py:350: ConvergenceWarning: The max_iter was reached which means the coef_ did not converge\n",
      "  warnings.warn(\n",
      "/home/parazit/anaconda3/lib/python3.9/site-packages/sklearn/linear_model/_sag.py:350: ConvergenceWarning: The max_iter was reached which means the coef_ did not converge\n",
      "  warnings.warn(\n",
      "/home/parazit/anaconda3/lib/python3.9/site-packages/sklearn/linear_model/_sag.py:350: ConvergenceWarning: The max_iter was reached which means the coef_ did not converge\n",
      "  warnings.warn(\n",
      "/home/parazit/anaconda3/lib/python3.9/site-packages/sklearn/linear_model/_sag.py:350: ConvergenceWarning: The max_iter was reached which means the coef_ did not converge\n",
      "  warnings.warn(\n",
      "/home/parazit/anaconda3/lib/python3.9/site-packages/sklearn/linear_model/_sag.py:350: ConvergenceWarning: The max_iter was reached which means the coef_ did not converge\n",
      "  warnings.warn(\n",
      "/home/parazit/anaconda3/lib/python3.9/site-packages/sklearn/linear_model/_sag.py:350: ConvergenceWarning: The max_iter was reached which means the coef_ did not converge\n",
      "  warnings.warn(\n",
      "/home/parazit/anaconda3/lib/python3.9/site-packages/sklearn/linear_model/_sag.py:350: ConvergenceWarning: The max_iter was reached which means the coef_ did not converge\n",
      "  warnings.warn(\n",
      "/home/parazit/anaconda3/lib/python3.9/site-packages/sklearn/linear_model/_sag.py:350: ConvergenceWarning: The max_iter was reached which means the coef_ did not converge\n",
      "  warnings.warn(\n",
      "/home/parazit/anaconda3/lib/python3.9/site-packages/sklearn/linear_model/_sag.py:350: ConvergenceWarning: The max_iter was reached which means the coef_ did not converge\n",
      "  warnings.warn(\n",
      "/home/parazit/anaconda3/lib/python3.9/site-packages/sklearn/linear_model/_sag.py:350: ConvergenceWarning: The max_iter was reached which means the coef_ did not converge\n",
      "  warnings.warn(\n",
      "/home/parazit/anaconda3/lib/python3.9/site-packages/sklearn/linear_model/_sag.py:350: ConvergenceWarning: The max_iter was reached which means the coef_ did not converge\n",
      "  warnings.warn(\n",
      "/home/parazit/anaconda3/lib/python3.9/site-packages/sklearn/linear_model/_sag.py:350: ConvergenceWarning: The max_iter was reached which means the coef_ did not converge\n",
      "  warnings.warn(\n"
     ]
    },
    {
     "name": "stdout",
     "output_type": "stream",
     "text": [
      "Best weighted f1-score of Grid search: 0.9150178200949194\n",
      "Best model parameters of Grid search: {'C': 1, 'class_weight': 'balanced', 'max_iter': 300, 'penalty': 'l1', 'solver': 'liblinear'}\n"
     ]
    }
   ],
   "source": [
    "X_train, y_train = get_X_y(\"train_genomes\", meta_df_genomes)\n",
    "\n",
    "best_model = find_best_model(X_train, y_train, LogisticRegression(), param_grid)"
   ]
  },
  {
   "cell_type": "markdown",
   "id": "f2cab879",
   "metadata": {},
   "source": [
    "Тестируем на геномах"
   ]
  },
  {
   "cell_type": "code",
   "execution_count": 9,
   "id": "4185208b",
   "metadata": {},
   "outputs": [
    {
     "name": "stdout",
     "output_type": "stream",
     "text": [
      "               precision    recall  f1-score   support\n",
      "\n",
      "      Insecta       0.55      0.64      0.60        95\n",
      "     Mammalia       0.83      0.85      0.84       160\n",
      "Viridiplantae       0.62      0.48      0.54        83\n",
      "\n",
      "     accuracy                           0.70       338\n",
      "    macro avg       0.67      0.66      0.66       338\n",
      " weighted avg       0.70      0.70      0.70       338\n",
      "\n"
     ]
    }
   ],
   "source": [
    "X_test, y_test = get_X_y(\"test_genomes\", meta_df_genomes) # шкалирвоание проводится внутри функции\n",
    "\n",
    "print(classification_report(y_test, best_model.predict(X_test)))"
   ]
  },
  {
   "cell_type": "markdown",
   "id": "3b36bd03",
   "metadata": {},
   "source": [
    "Тестируем на фрагментах длины 800 нуклеотидов"
   ]
  },
  {
   "cell_type": "code",
   "execution_count": 10,
   "id": "973648f3",
   "metadata": {},
   "outputs": [
    {
     "name": "stdout",
     "output_type": "stream",
     "text": [
      "               precision    recall  f1-score   support\n",
      "\n",
      "      Insecta       0.47      0.49      0.48       190\n",
      "     Mammalia       0.73      0.77      0.75       320\n",
      "Viridiplantae       0.42      0.36      0.39       166\n",
      "\n",
      "     accuracy                           0.59       676\n",
      "    macro avg       0.54      0.54      0.54       676\n",
      " weighted avg       0.58      0.59      0.59       676\n",
      "\n"
     ]
    }
   ],
   "source": [
    "X_test, y_test = get_X_y(\"test_800\", meta_df_800)\n",
    "\n",
    "print(classification_report(y_test, best_model.predict(X_test)))"
   ]
  },
  {
   "cell_type": "markdown",
   "id": "d85d6029",
   "metadata": {},
   "source": [
    "Тестируем на фрагментах длины 400 нуклеотидов"
   ]
  },
  {
   "cell_type": "code",
   "execution_count": 11,
   "id": "84186655",
   "metadata": {},
   "outputs": [
    {
     "name": "stdout",
     "output_type": "stream",
     "text": [
      "               precision    recall  f1-score   support\n",
      "\n",
      "      Insecta       0.43      0.41      0.42       190\n",
      "     Mammalia       0.69      0.71      0.70       320\n",
      "Viridiplantae       0.37      0.37      0.37       166\n",
      "\n",
      "     accuracy                           0.54       676\n",
      "    macro avg       0.50      0.50      0.50       676\n",
      " weighted avg       0.54      0.54      0.54       676\n",
      "\n"
     ]
    }
   ],
   "source": [
    "X_test, y_test = get_X_y(\"test_400\", meta_df_400)\n",
    "\n",
    "print(classification_report(y_test, best_model.predict(X_test)))"
   ]
  },
  {
   "cell_type": "markdown",
   "id": "9f4ee114",
   "metadata": {},
   "source": [
    "Взвешенная F1-мера полногеномной LR Host Taxon Predictor:"
   ]
  },
  {
   "cell_type": "markdown",
   "id": "77ea732e",
   "metadata": {},
   "source": [
    "На геномах 0.70, на фрагментах 800 нуклеотидов 0.58, на фрагментах 400 нуклеотидов 0.54"
   ]
  },
  {
   "cell_type": "markdown",
   "id": "4678bbcc",
   "metadata": {},
   "source": [
    "## Метод опорных векторов"
   ]
  },
  {
   "cell_type": "markdown",
   "id": "1dbd724e",
   "metadata": {},
   "source": [
    "Параметры регуляризации (С) соответствуют таковым в референсном исследовании Host Taxon Predictor"
   ]
  },
  {
   "cell_type": "code",
   "execution_count": 13,
   "id": "54aaa92a",
   "metadata": {},
   "outputs": [],
   "source": [
    "host_c_svc = {\"Insecta\": 0.03125, \"Mammalia\": 0.03125, \"Viridiplantae\": 0.25}"
   ]
  },
  {
   "cell_type": "markdown",
   "id": "c934dfd4",
   "metadata": {},
   "source": [
    "Выделям тренировочную выборку, обучаем 3 бинарных классификатора SVC"
   ]
  },
  {
   "cell_type": "code",
   "execution_count": 14,
   "id": "4310a87d",
   "metadata": {},
   "outputs": [],
   "source": [
    "X_train, y_train = get_X_y(\"train_genomes\", meta_df_genomes)\n",
    "\n",
    "svc_genome_models = {}\n",
    "y_dict_svc = dict(zip([\"Insecta\", \"Mammalia\", \"Viridiplantae\"], LabelBinarizer().fit(y_train).transform(y_train).T))\n",
    "\n",
    "for host in host_c_svc.keys():\n",
    "    \n",
    "    svc_genome_models[host] = \\\n",
    "                SVC(kernel = 'linear', probability = True, C = host_c_svc[host]).fit(X_train, y_dict_svc[host])"
   ]
  },
  {
   "cell_type": "markdown",
   "id": "936ae08d",
   "metadata": {},
   "source": [
    "Оцениваем качество мультиклассовой классификации на основе бинарных вероятностей"
   ]
  },
  {
   "cell_type": "code",
   "execution_count": 15,
   "id": "83758a1b",
   "metadata": {},
   "outputs": [],
   "source": [
    "def SVC_multiclassification(models, X_test, y_test, print_binary = False):\n",
    "    \n",
    "    y_proba = np.zeros(shape = y_test.shape)\n",
    "    y_dict_svc = dict(zip([\"Insecta\", \"Mammalia\", \"Viridiplantae\"], LabelBinarizer().fit(y_test).transform(y_test).T))\n",
    "    \n",
    "    for host in y_dict_svc.keys():\n",
    "        y_proba = np.vstack((y_proba, models[host].predict_proba(X_test)[:,1]))\n",
    "        if print_binary:\n",
    "            print(classification_report(y_dict_svc[host], models[host].predict(X_test), target_names = ['Others', host]))\n",
    "\n",
    "    y_pred  = pd.Series(np.argmax((y_proba[1:]/y_proba[1:].sum(axis=0)), axis=0)).map({0: \"Insecta\", 1: \"Mammalia\", 2: \"Viridiplantae\"}).values\n",
    "    print(classification_report(y_test, y_pred, target_names = [\"Insecta\", \"Mammalia\", \"Viridiplantae\"], zero_division=1))\n",
    "    \n",
    "    return"
   ]
  },
  {
   "cell_type": "markdown",
   "id": "48336341",
   "metadata": {},
   "source": [
    "Тестируем на полных геномах\n"
   ]
  },
  {
   "cell_type": "code",
   "execution_count": 16,
   "id": "38ddf143",
   "metadata": {},
   "outputs": [
    {
     "name": "stdout",
     "output_type": "stream",
     "text": [
      "               precision    recall  f1-score   support\n",
      "\n",
      "      Insecta       0.60      0.61      0.60        95\n",
      "     Mammalia       0.81      0.89      0.85       160\n",
      "Viridiplantae       0.69      0.54      0.61        83\n",
      "\n",
      "     accuracy                           0.73       338\n",
      "    macro avg       0.70      0.68      0.69       338\n",
      " weighted avg       0.72      0.73      0.72       338\n",
      "\n"
     ]
    }
   ],
   "source": [
    "X_test, y_test = get_X_y(\"test_genomes\", meta_df_genomes)\n",
    "\n",
    "SVC_multiclassification(svc_genome_models, X_test, y_test)"
   ]
  },
  {
   "cell_type": "markdown",
   "id": "82b5e313",
   "metadata": {},
   "source": [
    "Тестируем на фрагментах 800 нуклеотидов"
   ]
  },
  {
   "cell_type": "code",
   "execution_count": 17,
   "id": "905d3d17",
   "metadata": {},
   "outputs": [
    {
     "name": "stdout",
     "output_type": "stream",
     "text": [
      "               precision    recall  f1-score   support\n",
      "\n",
      "      Insecta       0.47      0.48      0.47       190\n",
      "     Mammalia       0.72      0.80      0.76       320\n",
      "Viridiplantae       0.47      0.36      0.41       166\n",
      "\n",
      "     accuracy                           0.60       676\n",
      "    macro avg       0.55      0.55      0.55       676\n",
      " weighted avg       0.59      0.60      0.59       676\n",
      "\n"
     ]
    }
   ],
   "source": [
    "X_test, y_test = get_X_y(\"test_800\", meta_df_800)\n",
    "\n",
    "SVC_multiclassification(svc_genome_models, X_test, y_test)"
   ]
  },
  {
   "cell_type": "markdown",
   "id": "81d93904",
   "metadata": {},
   "source": [
    "Тестируем на фрагментах 400 нуклеотидов"
   ]
  },
  {
   "cell_type": "code",
   "execution_count": 18,
   "id": "1cbf8193",
   "metadata": {},
   "outputs": [
    {
     "name": "stdout",
     "output_type": "stream",
     "text": [
      "               precision    recall  f1-score   support\n",
      "\n",
      "      Insecta       0.43      0.40      0.41       190\n",
      "     Mammalia       0.67      0.72      0.70       320\n",
      "Viridiplantae       0.38      0.35      0.36       166\n",
      "\n",
      "     accuracy                           0.54       676\n",
      "    macro avg       0.49      0.49      0.49       676\n",
      " weighted avg       0.53      0.54      0.54       676\n",
      "\n"
     ]
    }
   ],
   "source": [
    "X_test, y_test = get_X_y(\"test_400\", meta_df_400)\n",
    "\n",
    "SVC_multiclassification(svc_genome_models, X_test, y_test)"
   ]
  },
  {
   "cell_type": "markdown",
   "id": "913fb7bb",
   "metadata": {},
   "source": [
    "Взвешенная F1-мера полногеномных SVC Host Taxon Predictor:"
   ]
  },
  {
   "cell_type": "markdown",
   "id": "1935d607",
   "metadata": {},
   "source": [
    "На геномах 0.71, на фрагментах 800 нуклеотидов 0.59, на фрагментах 400 нуклеотидов 0.54\n"
   ]
  }
 ],
 "metadata": {
  "kernelspec": {
   "display_name": "Python 3 (ipykernel)",
   "language": "python",
   "name": "python3"
  },
  "language_info": {
   "codemirror_mode": {
    "name": "ipython",
    "version": 3
   },
   "file_extension": ".py",
   "mimetype": "text/x-python",
   "name": "python",
   "nbconvert_exporter": "python",
   "pygments_lexer": "ipython3",
   "version": "3.9.13"
  }
 },
 "nbformat": 4,
 "nbformat_minor": 5
}
