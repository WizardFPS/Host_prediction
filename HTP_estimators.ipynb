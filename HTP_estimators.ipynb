{
 "cells": [
  {
   "cell_type": "code",
   "execution_count": 1,
   "id": "c8e0f0b7",
   "metadata": {},
   "outputs": [],
   "source": [
    "from sklearn.linear_model import LogisticRegression\n",
    "from sklearn import linear_model\n",
    "from sklearn.model_selection import GridSearchCV\n",
    "from sklearn.metrics import f1_score, classification_report\n",
    "from sklearn.preprocessing import StandardScaler, LabelEncoder, LabelBinarizer\n",
    "from sklearn.svm import SVC\n",
    "\n",
    "import pandas as pd\n",
    "import numpy as np\n",
    "import pickle"
   ]
  },
  {
   "cell_type": "code",
   "execution_count": 2,
   "id": "15962b15",
   "metadata": {},
   "outputs": [],
   "source": [
    "PATH = \"/home/parazit/ml_virus_host/v2.0/\"\n",
    "PATH_FEATURES = PATH + \"v3.0/baseline/htp/features/\"\n",
    "PATH_SAMPLE_IDS = PATH + \"sample_ids/genomes_fragments_connected/\"\n",
    "PATH_DATA = PATH + \"data/\""
   ]
  },
  {
   "cell_type": "code",
   "execution_count": 3,
   "id": "d06e3785",
   "metadata": {},
   "outputs": [],
   "source": [
    "meta_df_genomes = pd.read_csv(PATH_DATA+\"data_table.tsv\", sep=\"\\t\", index_col=0)\n",
    "meta_df_800 = pd.read_csv(PATH_DATA+\"data_table_800.tsv\", sep=\"\\t\", index_col=0)\n",
    "meta_df_400 = pd.read_csv(PATH_DATA+\"data_table_400.tsv\", sep=\"\\t\", index_col=0)"
   ]
  },
  {
   "cell_type": "code",
   "execution_count": 4,
   "id": "765089db",
   "metadata": {},
   "outputs": [],
   "source": [
    "sample_ids_genomes = pickle.load(open(PATH_SAMPLE_IDS+\"train_val_test_genomes.pkl\", \"rb\"))\n",
    "sample_ids_800 = pickle.load(open(PATH_SAMPLE_IDS+\"train_val_test_800.pkl\", \"rb\"))\n",
    "sample_ids_400 = pickle.load(open(PATH_SAMPLE_IDS+\"train_val_test_400.pkl\", \"rb\"))"
   ]
  },
  {
   "cell_type": "markdown",
   "id": "b3d0d356",
   "metadata": {},
   "source": [
    "Функция подбора параметров моделей"
   ]
  },
  {
   "cell_type": "code",
   "execution_count": 5,
   "id": "6ffc9fc8",
   "metadata": {},
   "outputs": [],
   "source": [
    "def find_best_model(X, y, clf, param_grid):\n",
    "   \n",
    "    model = GridSearchCV(estimator = clf, param_grid = param_grid, cv=5, verbose=1, scoring=\"f1_weighted\", n_jobs = -1)\n",
    "    model.fit(X,y)\n",
    "    print('Best weighted f1-score of Grid search: {}'.format(model.best_score_))\n",
    "    print(\"Best model parameters of Grid search: {}\".format(model.best_params_))\n",
    "    return model.best_estimator_"
   ]
  },
  {
   "cell_type": "markdown",
   "id": "18d684c4",
   "metadata": {},
   "source": [
    "Функция выделения X (признаки) и y (целевая переменная)"
   ]
  },
  {
   "cell_type": "code",
   "execution_count": 6,
   "id": "6241c5cc",
   "metadata": {},
   "outputs": [],
   "source": [
    "def get_X_y(name, meta_df):\n",
    "    \n",
    "    df = pd.read_csv(PATH_FEATURES+name+\"_features.tsv\", sep=\"\\t\", index_col=0)\n",
    "    y = meta_df.loc[df.index].host.values\n",
    "    X = StandardScaler().fit_transform(df.values) # шкалирвоание проводится внутри функции\n",
    "    \n",
    "    return X, y"
   ]
  },
  {
   "cell_type": "markdown",
   "id": "40b47ecf",
   "metadata": {},
   "source": [
    "## Логистическая регрессия"
   ]
  },
  {
   "cell_type": "markdown",
   "id": "890ad81a",
   "metadata": {},
   "source": [
    "### Обучение на геномах, тестирование на выборках геномов и фрагментов"
   ]
  },
  {
   "cell_type": "markdown",
   "id": "2c791a2b",
   "metadata": {},
   "source": [
    "Перебор параметров"
   ]
  },
  {
   "cell_type": "code",
   "execution_count": 7,
   "id": "fb7ce9f9",
   "metadata": {},
   "outputs": [],
   "source": [
    "param_grid = {\n",
    "                \"penalty\":[\"l1\"], \n",
    "                \"C\": [1, 10, 100, 1000],\n",
    "                \"solver\": [\"liblinear\", \"saga\"],\n",
    "                \"class_weight\" : [\"balanced\"],\n",
    "                \"max_iter\": [300]\n",
    "             }"
   ]
  },
  {
   "cell_type": "markdown",
   "id": "80b67ff1",
   "metadata": {},
   "source": [
    "Выделение тренировочной выборки геномов, обучение логистической регрессии"
   ]
  },
  {
   "cell_type": "code",
   "execution_count": 8,
   "id": "fe0a233f",
   "metadata": {
    "collapsed": true
   },
   "outputs": [
    {
     "name": "stdout",
     "output_type": "stream",
     "text": [
      "Fitting 5 folds for each of 8 candidates, totalling 40 fits\n"
     ]
    },
    {
     "name": "stderr",
     "output_type": "stream",
     "text": [
      "/home/parazit/anaconda3/lib/python3.9/site-packages/sklearn/linear_model/_sag.py:350: ConvergenceWarning: The max_iter was reached which means the coef_ did not converge\n",
      "  warnings.warn(\n",
      "/home/parazit/anaconda3/lib/python3.9/site-packages/sklearn/linear_model/_sag.py:350: ConvergenceWarning: The max_iter was reached which means the coef_ did not converge\n",
      "  warnings.warn(\n",
      "/home/parazit/anaconda3/lib/python3.9/site-packages/sklearn/linear_model/_sag.py:350: ConvergenceWarning: The max_iter was reached which means the coef_ did not converge\n",
      "  warnings.warn(\n",
      "/home/parazit/anaconda3/lib/python3.9/site-packages/sklearn/linear_model/_sag.py:350: ConvergenceWarning: The max_iter was reached which means the coef_ did not converge\n",
      "  warnings.warn(\n",
      "/home/parazit/anaconda3/lib/python3.9/site-packages/sklearn/linear_model/_sag.py:350: ConvergenceWarning: The max_iter was reached which means the coef_ did not converge\n",
      "  warnings.warn(\n",
      "/home/parazit/anaconda3/lib/python3.9/site-packages/sklearn/linear_model/_sag.py:350: ConvergenceWarning: The max_iter was reached which means the coef_ did not converge\n",
      "  warnings.warn(\n",
      "/home/parazit/anaconda3/lib/python3.9/site-packages/sklearn/linear_model/_sag.py:350: ConvergenceWarning: The max_iter was reached which means the coef_ did not converge\n",
      "  warnings.warn(\n",
      "/home/parazit/anaconda3/lib/python3.9/site-packages/sklearn/linear_model/_sag.py:350: ConvergenceWarning: The max_iter was reached which means the coef_ did not converge\n",
      "  warnings.warn(\n",
      "/home/parazit/anaconda3/lib/python3.9/site-packages/sklearn/linear_model/_sag.py:350: ConvergenceWarning: The max_iter was reached which means the coef_ did not converge\n",
      "  warnings.warn(\n",
      "/home/parazit/anaconda3/lib/python3.9/site-packages/sklearn/linear_model/_sag.py:350: ConvergenceWarning: The max_iter was reached which means the coef_ did not converge\n",
      "  warnings.warn(\n",
      "/home/parazit/anaconda3/lib/python3.9/site-packages/sklearn/linear_model/_sag.py:350: ConvergenceWarning: The max_iter was reached which means the coef_ did not converge\n",
      "  warnings.warn(\n",
      "/home/parazit/anaconda3/lib/python3.9/site-packages/sklearn/linear_model/_sag.py:350: ConvergenceWarning: The max_iter was reached which means the coef_ did not converge\n",
      "  warnings.warn(\n",
      "/home/parazit/anaconda3/lib/python3.9/site-packages/sklearn/linear_model/_sag.py:350: ConvergenceWarning: The max_iter was reached which means the coef_ did not converge\n",
      "  warnings.warn(\n",
      "/home/parazit/anaconda3/lib/python3.9/site-packages/sklearn/linear_model/_sag.py:350: ConvergenceWarning: The max_iter was reached which means the coef_ did not converge\n",
      "  warnings.warn(\n",
      "/home/parazit/anaconda3/lib/python3.9/site-packages/sklearn/linear_model/_sag.py:350: ConvergenceWarning: The max_iter was reached which means the coef_ did not converge\n",
      "  warnings.warn(\n"
     ]
    },
    {
     "name": "stdout",
     "output_type": "stream",
     "text": [
      "Best weighted f1-score of Grid search: 0.9150178200949194\n",
      "Best model parameters of Grid search: {'C': 1, 'class_weight': 'balanced', 'max_iter': 300, 'penalty': 'l1', 'solver': 'liblinear'}\n"
     ]
    },
    {
     "name": "stderr",
     "output_type": "stream",
     "text": [
      "/home/parazit/anaconda3/lib/python3.9/site-packages/sklearn/linear_model/_sag.py:350: ConvergenceWarning: The max_iter was reached which means the coef_ did not converge\n",
      "  warnings.warn(\n",
      "/home/parazit/anaconda3/lib/python3.9/site-packages/sklearn/linear_model/_sag.py:350: ConvergenceWarning: The max_iter was reached which means the coef_ did not converge\n",
      "  warnings.warn(\n",
      "/home/parazit/anaconda3/lib/python3.9/site-packages/sklearn/linear_model/_sag.py:350: ConvergenceWarning: The max_iter was reached which means the coef_ did not converge\n",
      "  warnings.warn(\n",
      "/home/parazit/anaconda3/lib/python3.9/site-packages/sklearn/linear_model/_sag.py:350: ConvergenceWarning: The max_iter was reached which means the coef_ did not converge\n",
      "  warnings.warn(\n",
      "/home/parazit/anaconda3/lib/python3.9/site-packages/sklearn/linear_model/_sag.py:350: ConvergenceWarning: The max_iter was reached which means the coef_ did not converge\n",
      "  warnings.warn(\n"
     ]
    }
   ],
   "source": [
    "X_train, y_train = get_X_y(\"train_genomes\", meta_df_genomes)\n",
    "\n",
    "best_model = find_best_model(X_train, y_train, LogisticRegression(), param_grid)"
   ]
  },
  {
   "cell_type": "markdown",
   "id": "9df6125c",
   "metadata": {},
   "source": [
    "Тестирование на геномах"
   ]
  },
  {
   "cell_type": "code",
   "execution_count": 9,
   "id": "8896ebe4",
   "metadata": {},
   "outputs": [
    {
     "name": "stdout",
     "output_type": "stream",
     "text": [
      "               precision    recall  f1-score   support\n",
      "\n",
      "      Insecta       0.55      0.64      0.60        95\n",
      "     Mammalia       0.83      0.85      0.84       160\n",
      "Viridiplantae       0.62      0.48      0.54        83\n",
      "\n",
      "     accuracy                           0.70       338\n",
      "    macro avg       0.67      0.66      0.66       338\n",
      " weighted avg       0.70      0.70      0.70       338\n",
      "\n"
     ]
    }
   ],
   "source": [
    "X_test, y_test = get_X_y(\"test_genomes\", meta_df_genomes) # шкалирвоание проводится внутри функции\n",
    "\n",
    "print(classification_report(y_test, best_model.predict(X_test)))"
   ]
  },
  {
   "cell_type": "markdown",
   "id": "a29a6df3",
   "metadata": {},
   "source": [
    "Тестирование на фрагментах длины 800 нуклеотидов"
   ]
  },
  {
   "cell_type": "code",
   "execution_count": 10,
   "id": "7cf9ecdb",
   "metadata": {},
   "outputs": [
    {
     "name": "stdout",
     "output_type": "stream",
     "text": [
      "               precision    recall  f1-score   support\n",
      "\n",
      "      Insecta       0.47      0.49      0.48       190\n",
      "     Mammalia       0.73      0.77      0.75       320\n",
      "Viridiplantae       0.42      0.36      0.38       166\n",
      "\n",
      "     accuracy                           0.59       676\n",
      "    macro avg       0.54      0.54      0.54       676\n",
      " weighted avg       0.58      0.59      0.59       676\n",
      "\n"
     ]
    }
   ],
   "source": [
    "X_test, y_test = get_X_y(\"test_800\", meta_df_800)\n",
    "\n",
    "print(classification_report(y_test, best_model.predict(X_test)))"
   ]
  },
  {
   "cell_type": "markdown",
   "id": "760cba79",
   "metadata": {},
   "source": [
    "Тестирование на фрагментах длины 400 нуклеотидов"
   ]
  },
  {
   "cell_type": "code",
   "execution_count": 11,
   "id": "7465b6eb",
   "metadata": {},
   "outputs": [
    {
     "name": "stdout",
     "output_type": "stream",
     "text": [
      "               precision    recall  f1-score   support\n",
      "\n",
      "      Insecta       0.43      0.41      0.42       190\n",
      "     Mammalia       0.69      0.70      0.69       320\n",
      "Viridiplantae       0.36      0.37      0.36       166\n",
      "\n",
      "     accuracy                           0.54       676\n",
      "    macro avg       0.49      0.49      0.49       676\n",
      " weighted avg       0.53      0.54      0.54       676\n",
      "\n"
     ]
    }
   ],
   "source": [
    "X_test, y_test = get_X_y(\"test_400\", meta_df_400)\n",
    "\n",
    "print(classification_report(y_test, best_model.predict(X_test)))"
   ]
  },
  {
   "cell_type": "markdown",
   "id": "d2aa6e74",
   "metadata": {},
   "source": [
    "Взвешенная F1-мера полногеномной LR Host Taxon Predictor:"
   ]
  },
  {
   "cell_type": "markdown",
   "id": "539be81f",
   "metadata": {},
   "source": [
    "На геномах 0.70, на фрагментах 800 нуклеотидов 0.59, на фрагментах 400 нуклеотидов 0.54"
   ]
  },
  {
   "cell_type": "markdown",
   "id": "9369552d",
   "metadata": {},
   "source": [
    "### Обучение и тестирование на фрагментах одной длины"
   ]
  },
  {
   "cell_type": "markdown",
   "id": "6bf34dd1",
   "metadata": {},
   "source": [
    "Обучение и тестирование на фрагментах длины 800 нуклеотидов"
   ]
  },
  {
   "cell_type": "code",
   "execution_count": 12,
   "id": "6e1640d4",
   "metadata": {
    "collapsed": true
   },
   "outputs": [
    {
     "name": "stdout",
     "output_type": "stream",
     "text": [
      "Fitting 5 folds for each of 8 candidates, totalling 40 fits\n"
     ]
    },
    {
     "name": "stderr",
     "output_type": "stream",
     "text": [
      "/home/parazit/anaconda3/lib/python3.9/site-packages/sklearn/linear_model/_sag.py:350: ConvergenceWarning: The max_iter was reached which means the coef_ did not converge\n",
      "  warnings.warn(\n",
      "/home/parazit/anaconda3/lib/python3.9/site-packages/sklearn/linear_model/_sag.py:350: ConvergenceWarning: The max_iter was reached which means the coef_ did not converge\n",
      "  warnings.warn(\n",
      "/home/parazit/anaconda3/lib/python3.9/site-packages/sklearn/linear_model/_sag.py:350: ConvergenceWarning: The max_iter was reached which means the coef_ did not converge\n",
      "  warnings.warn(\n",
      "/home/parazit/anaconda3/lib/python3.9/site-packages/sklearn/linear_model/_sag.py:350: ConvergenceWarning: The max_iter was reached which means the coef_ did not converge\n",
      "  warnings.warn(\n",
      "/home/parazit/anaconda3/lib/python3.9/site-packages/sklearn/linear_model/_sag.py:350: ConvergenceWarning: The max_iter was reached which means the coef_ did not converge\n",
      "  warnings.warn(\n",
      "/home/parazit/anaconda3/lib/python3.9/site-packages/sklearn/linear_model/_sag.py:350: ConvergenceWarning: The max_iter was reached which means the coef_ did not converge\n",
      "  warnings.warn(\n",
      "/home/parazit/anaconda3/lib/python3.9/site-packages/sklearn/linear_model/_sag.py:350: ConvergenceWarning: The max_iter was reached which means the coef_ did not converge\n",
      "  warnings.warn(\n",
      "/home/parazit/anaconda3/lib/python3.9/site-packages/sklearn/linear_model/_sag.py:350: ConvergenceWarning: The max_iter was reached which means the coef_ did not converge\n",
      "  warnings.warn(\n",
      "/home/parazit/anaconda3/lib/python3.9/site-packages/sklearn/linear_model/_sag.py:350: ConvergenceWarning: The max_iter was reached which means the coef_ did not converge\n",
      "  warnings.warn(\n",
      "/home/parazit/anaconda3/lib/python3.9/site-packages/sklearn/linear_model/_sag.py:350: ConvergenceWarning: The max_iter was reached which means the coef_ did not converge\n",
      "  warnings.warn(\n",
      "/home/parazit/anaconda3/lib/python3.9/site-packages/sklearn/linear_model/_sag.py:350: ConvergenceWarning: The max_iter was reached which means the coef_ did not converge\n",
      "  warnings.warn(\n",
      "/home/parazit/anaconda3/lib/python3.9/site-packages/sklearn/linear_model/_sag.py:350: ConvergenceWarning: The max_iter was reached which means the coef_ did not converge\n",
      "  warnings.warn(\n",
      "/home/parazit/anaconda3/lib/python3.9/site-packages/sklearn/linear_model/_sag.py:350: ConvergenceWarning: The max_iter was reached which means the coef_ did not converge\n",
      "  warnings.warn(\n",
      "/home/parazit/anaconda3/lib/python3.9/site-packages/sklearn/linear_model/_sag.py:350: ConvergenceWarning: The max_iter was reached which means the coef_ did not converge\n",
      "  warnings.warn(\n",
      "/home/parazit/anaconda3/lib/python3.9/site-packages/sklearn/linear_model/_sag.py:350: ConvergenceWarning: The max_iter was reached which means the coef_ did not converge\n",
      "  warnings.warn(\n",
      "/home/parazit/anaconda3/lib/python3.9/site-packages/sklearn/linear_model/_sag.py:350: ConvergenceWarning: The max_iter was reached which means the coef_ did not converge\n",
      "  warnings.warn(\n",
      "/home/parazit/anaconda3/lib/python3.9/site-packages/sklearn/linear_model/_sag.py:350: ConvergenceWarning: The max_iter was reached which means the coef_ did not converge\n",
      "  warnings.warn(\n",
      "/home/parazit/anaconda3/lib/python3.9/site-packages/sklearn/linear_model/_sag.py:350: ConvergenceWarning: The max_iter was reached which means the coef_ did not converge\n",
      "  warnings.warn(\n",
      "/home/parazit/anaconda3/lib/python3.9/site-packages/sklearn/linear_model/_sag.py:350: ConvergenceWarning: The max_iter was reached which means the coef_ did not converge\n",
      "  warnings.warn(\n",
      "/home/parazit/anaconda3/lib/python3.9/site-packages/sklearn/linear_model/_sag.py:350: ConvergenceWarning: The max_iter was reached which means the coef_ did not converge\n",
      "  warnings.warn(\n"
     ]
    },
    {
     "name": "stdout",
     "output_type": "stream",
     "text": [
      "Best weighted f1-score of Grid search: 0.7788933619644578\n",
      "Best model parameters of Grid search: {'C': 1, 'class_weight': 'balanced', 'max_iter': 300, 'penalty': 'l1', 'solver': 'liblinear'}\n"
     ]
    }
   ],
   "source": [
    "X_train, y_train = get_X_y(\"train_800\", meta_df_800)\n",
    "\n",
    "best_model = find_best_model(X_train, y_train, LogisticRegression(), param_grid)"
   ]
  },
  {
   "cell_type": "code",
   "execution_count": 13,
   "id": "d913fb1c",
   "metadata": {},
   "outputs": [
    {
     "name": "stdout",
     "output_type": "stream",
     "text": [
      "               precision    recall  f1-score   support\n",
      "\n",
      "      Insecta       0.48      0.39      0.43       190\n",
      "     Mammalia       0.73      0.75      0.74       320\n",
      "Viridiplantae       0.48      0.55      0.51       166\n",
      "\n",
      "     accuracy                           0.60       676\n",
      "    macro avg       0.56      0.57      0.56       676\n",
      " weighted avg       0.60      0.60      0.60       676\n",
      "\n"
     ]
    }
   ],
   "source": [
    "X_test, y_test = get_X_y(\"test_800\", meta_df_800)\n",
    "\n",
    "print(classification_report(y_test, best_model.predict(X_test)))"
   ]
  },
  {
   "cell_type": "markdown",
   "id": "001a88ac",
   "metadata": {},
   "source": [
    "Обучение и тестирование на фрагментах длины 400 нуклеотидов"
   ]
  },
  {
   "cell_type": "code",
   "execution_count": 14,
   "id": "cc93bde2",
   "metadata": {
    "collapsed": true
   },
   "outputs": [
    {
     "name": "stdout",
     "output_type": "stream",
     "text": [
      "Fitting 5 folds for each of 8 candidates, totalling 40 fits\n"
     ]
    },
    {
     "name": "stderr",
     "output_type": "stream",
     "text": [
      "/home/parazit/anaconda3/lib/python3.9/site-packages/sklearn/linear_model/_sag.py:350: ConvergenceWarning: The max_iter was reached which means the coef_ did not converge\n",
      "  warnings.warn(\n",
      "/home/parazit/anaconda3/lib/python3.9/site-packages/sklearn/linear_model/_sag.py:350: ConvergenceWarning: The max_iter was reached which means the coef_ did not converge\n",
      "  warnings.warn(\n",
      "/home/parazit/anaconda3/lib/python3.9/site-packages/sklearn/linear_model/_sag.py:350: ConvergenceWarning: The max_iter was reached which means the coef_ did not converge\n",
      "  warnings.warn(\n",
      "/home/parazit/anaconda3/lib/python3.9/site-packages/sklearn/linear_model/_sag.py:350: ConvergenceWarning: The max_iter was reached which means the coef_ did not converge\n",
      "  warnings.warn(\n",
      "/home/parazit/anaconda3/lib/python3.9/site-packages/sklearn/linear_model/_sag.py:350: ConvergenceWarning: The max_iter was reached which means the coef_ did not converge\n",
      "  warnings.warn(\n",
      "/home/parazit/anaconda3/lib/python3.9/site-packages/sklearn/linear_model/_sag.py:350: ConvergenceWarning: The max_iter was reached which means the coef_ did not converge\n",
      "  warnings.warn(\n",
      "/home/parazit/anaconda3/lib/python3.9/site-packages/sklearn/linear_model/_sag.py:350: ConvergenceWarning: The max_iter was reached which means the coef_ did not converge\n",
      "  warnings.warn(\n",
      "/home/parazit/anaconda3/lib/python3.9/site-packages/sklearn/linear_model/_sag.py:350: ConvergenceWarning: The max_iter was reached which means the coef_ did not converge\n",
      "  warnings.warn(\n",
      "/home/parazit/anaconda3/lib/python3.9/site-packages/sklearn/linear_model/_sag.py:350: ConvergenceWarning: The max_iter was reached which means the coef_ did not converge\n",
      "  warnings.warn(\n",
      "/home/parazit/anaconda3/lib/python3.9/site-packages/sklearn/linear_model/_sag.py:350: ConvergenceWarning: The max_iter was reached which means the coef_ did not converge\n",
      "  warnings.warn(\n",
      "/home/parazit/anaconda3/lib/python3.9/site-packages/sklearn/linear_model/_sag.py:350: ConvergenceWarning: The max_iter was reached which means the coef_ did not converge\n",
      "  warnings.warn(\n",
      "/home/parazit/anaconda3/lib/python3.9/site-packages/sklearn/linear_model/_sag.py:350: ConvergenceWarning: The max_iter was reached which means the coef_ did not converge\n",
      "  warnings.warn(\n",
      "/home/parazit/anaconda3/lib/python3.9/site-packages/sklearn/linear_model/_sag.py:350: ConvergenceWarning: The max_iter was reached which means the coef_ did not converge\n",
      "  warnings.warn(\n",
      "/home/parazit/anaconda3/lib/python3.9/site-packages/sklearn/linear_model/_sag.py:350: ConvergenceWarning: The max_iter was reached which means the coef_ did not converge\n",
      "  warnings.warn(\n",
      "/home/parazit/anaconda3/lib/python3.9/site-packages/sklearn/linear_model/_sag.py:350: ConvergenceWarning: The max_iter was reached which means the coef_ did not converge\n",
      "  warnings.warn(\n",
      "/home/parazit/anaconda3/lib/python3.9/site-packages/sklearn/linear_model/_sag.py:350: ConvergenceWarning: The max_iter was reached which means the coef_ did not converge\n",
      "  warnings.warn(\n",
      "/home/parazit/anaconda3/lib/python3.9/site-packages/sklearn/linear_model/_sag.py:350: ConvergenceWarning: The max_iter was reached which means the coef_ did not converge\n",
      "  warnings.warn(\n",
      "/home/parazit/anaconda3/lib/python3.9/site-packages/sklearn/linear_model/_sag.py:350: ConvergenceWarning: The max_iter was reached which means the coef_ did not converge\n",
      "  warnings.warn(\n",
      "/home/parazit/anaconda3/lib/python3.9/site-packages/sklearn/linear_model/_sag.py:350: ConvergenceWarning: The max_iter was reached which means the coef_ did not converge\n",
      "  warnings.warn(\n",
      "/home/parazit/anaconda3/lib/python3.9/site-packages/sklearn/linear_model/_sag.py:350: ConvergenceWarning: The max_iter was reached which means the coef_ did not converge\n",
      "  warnings.warn(\n"
     ]
    },
    {
     "name": "stdout",
     "output_type": "stream",
     "text": [
      "Best weighted f1-score of Grid search: 0.7176072109493586\n",
      "Best model parameters of Grid search: {'C': 1, 'class_weight': 'balanced', 'max_iter': 300, 'penalty': 'l1', 'solver': 'liblinear'}\n"
     ]
    }
   ],
   "source": [
    "X_train, y_train = get_X_y(\"train_400\", meta_df_400)\n",
    "\n",
    "best_model = find_best_model(X_train, y_train, LogisticRegression(), param_grid)"
   ]
  },
  {
   "cell_type": "code",
   "execution_count": 15,
   "id": "95115d17",
   "metadata": {},
   "outputs": [
    {
     "name": "stdout",
     "output_type": "stream",
     "text": [
      "               precision    recall  f1-score   support\n",
      "\n",
      "      Insecta       0.45      0.34      0.39       190\n",
      "     Mammalia       0.70      0.75      0.72       320\n",
      "Viridiplantae       0.51      0.57      0.54       166\n",
      "\n",
      "     accuracy                           0.59       676\n",
      "    macro avg       0.55      0.55      0.55       676\n",
      " weighted avg       0.58      0.59      0.58       676\n",
      "\n"
     ]
    }
   ],
   "source": [
    "X_test, y_test = get_X_y(\"test_400\", meta_df_400)\n",
    "\n",
    "print(classification_report(y_test, best_model.predict(X_test)))"
   ]
  },
  {
   "cell_type": "markdown",
   "id": "6e02f4fa",
   "metadata": {},
   "source": [
    "Взвешенная F1-мера LR Host Taxon Predictor, обученных и протестированных на фрагментах равной длины:"
   ]
  },
  {
   "cell_type": "markdown",
   "id": "53cf4494",
   "metadata": {},
   "source": [
    "На фрагментах 800 нуклеотидов 0.60, на фрагментах 400 нуклеотидов 0.58"
   ]
  },
  {
   "cell_type": "markdown",
   "id": "3a6c11c4",
   "metadata": {},
   "source": [
    "## Метод опорных векторов"
   ]
  },
  {
   "cell_type": "markdown",
   "id": "eb1aba90",
   "metadata": {},
   "source": [
    "Параметры регуляризации (С) соответствуют таковым в референсном исследовании Host Taxon Predictor"
   ]
  },
  {
   "cell_type": "code",
   "execution_count": 16,
   "id": "f81992ce",
   "metadata": {},
   "outputs": [],
   "source": [
    "host_c_svc = {\"Insecta\": 0.03125, \"Mammalia\": 0.03125, \"Viridiplantae\": 0.25}"
   ]
  },
  {
   "cell_type": "markdown",
   "id": "e9e173ad",
   "metadata": {},
   "source": [
    "### Обучение на геномах, тестирование на выборках геномов и фрагментов"
   ]
  },
  {
   "cell_type": "markdown",
   "id": "cbab725c",
   "metadata": {},
   "source": [
    "Выделение тренировочной выборки геномов, обучение 3х бинарных классификаторов SVC"
   ]
  },
  {
   "cell_type": "code",
   "execution_count": 17,
   "id": "80c36a3e",
   "metadata": {},
   "outputs": [],
   "source": [
    "X_train, y_train = get_X_y(\"train_genomes\", meta_df_genomes)\n",
    "\n",
    "svc_genome_models = {}\n",
    "y_dict_svc = dict(zip([\"Insecta\", \"Mammalia\", \"Viridiplantae\"], LabelBinarizer().fit(y_train).transform(y_train).T))\n",
    "\n",
    "for host in host_c_svc.keys():\n",
    "    \n",
    "    svc_genome_models[host] = \\\n",
    "                SVC(kernel = 'linear', probability = True, C = host_c_svc[host]).fit(X_train, y_dict_svc[host])"
   ]
  },
  {
   "cell_type": "markdown",
   "id": "e893e6e5",
   "metadata": {},
   "source": [
    "Оценка качества мультиклассовой классификации на основе бинарных вероятностей"
   ]
  },
  {
   "cell_type": "code",
   "execution_count": 18,
   "id": "34297e55",
   "metadata": {},
   "outputs": [],
   "source": [
    "def SVC_multiclassification(models, X_test, y_test, print_binary = False):\n",
    "    \n",
    "    y_proba = np.zeros(shape = y_test.shape)\n",
    "    y_dict_svc = dict(zip([\"Insecta\", \"Mammalia\", \"Viridiplantae\"], LabelBinarizer().fit(y_test).transform(y_test).T))\n",
    "    \n",
    "    for host in y_dict_svc.keys():\n",
    "        y_proba = np.vstack((y_proba, models[host].predict_proba(X_test)[:,1]))\n",
    "        if print_binary:\n",
    "            print(classification_report(y_dict_svc[host], models[host].predict(X_test), target_names = ['Others', host]))\n",
    "\n",
    "    y_pred  = pd.Series(np.argmax((y_proba[1:]/y_proba[1:].sum(axis=0)), axis=0)).map({0: \"Insecta\", 1: \"Mammalia\", 2: \"Viridiplantae\"}).values\n",
    "    print(classification_report(y_test, y_pred, target_names = [\"Insecta\", \"Mammalia\", \"Viridiplantae\"], zero_division=1))\n",
    "    \n",
    "    return"
   ]
  },
  {
   "cell_type": "markdown",
   "id": "066cc7b8",
   "metadata": {},
   "source": [
    "Тестирование на полных геномах"
   ]
  },
  {
   "cell_type": "code",
   "execution_count": 19,
   "id": "f133b2e8",
   "metadata": {},
   "outputs": [
    {
     "name": "stdout",
     "output_type": "stream",
     "text": [
      "               precision    recall  f1-score   support\n",
      "\n",
      "      Insecta       0.59      0.57      0.58        95\n",
      "     Mammalia       0.79      0.89      0.84       160\n",
      "Viridiplantae       0.69      0.55      0.61        83\n",
      "\n",
      "     accuracy                           0.72       338\n",
      "    macro avg       0.69      0.67      0.68       338\n",
      " weighted avg       0.71      0.72      0.71       338\n",
      "\n"
     ]
    }
   ],
   "source": [
    "X_test, y_test = get_X_y(\"test_genomes\", meta_df_genomes)\n",
    "\n",
    "SVC_multiclassification(svc_genome_models, X_test, y_test)"
   ]
  },
  {
   "cell_type": "markdown",
   "id": "44745c1c",
   "metadata": {},
   "source": [
    "Тестирование на фрагментах 800 нуклеотидов"
   ]
  },
  {
   "cell_type": "code",
   "execution_count": 20,
   "id": "91ba0875",
   "metadata": {},
   "outputs": [
    {
     "name": "stdout",
     "output_type": "stream",
     "text": [
      "               precision    recall  f1-score   support\n",
      "\n",
      "      Insecta       0.47      0.47      0.47       190\n",
      "     Mammalia       0.73      0.80      0.76       320\n",
      "Viridiplantae       0.47      0.38      0.42       166\n",
      "\n",
      "     accuracy                           0.60       676\n",
      "    macro avg       0.55      0.55      0.55       676\n",
      " weighted avg       0.59      0.60      0.59       676\n",
      "\n"
     ]
    }
   ],
   "source": [
    "X_test, y_test = get_X_y(\"test_800\", meta_df_800)\n",
    "\n",
    "SVC_multiclassification(svc_genome_models, X_test, y_test)"
   ]
  },
  {
   "cell_type": "markdown",
   "id": "3871b2b3",
   "metadata": {},
   "source": [
    "Тестирование на фрагментах 400 нуклеотидов"
   ]
  },
  {
   "cell_type": "code",
   "execution_count": 21,
   "id": "0ddbb2c4",
   "metadata": {},
   "outputs": [
    {
     "name": "stdout",
     "output_type": "stream",
     "text": [
      "               precision    recall  f1-score   support\n",
      "\n",
      "      Insecta       0.44      0.39      0.41       190\n",
      "     Mammalia       0.68      0.73      0.70       320\n",
      "Viridiplantae       0.37      0.36      0.36       166\n",
      "\n",
      "     accuracy                           0.54       676\n",
      "    macro avg       0.50      0.49      0.49       676\n",
      " weighted avg       0.53      0.54      0.54       676\n",
      "\n"
     ]
    }
   ],
   "source": [
    "X_test, y_test = get_X_y(\"test_400\", meta_df_400)\n",
    "\n",
    "SVC_multiclassification(svc_genome_models, X_test, y_test)"
   ]
  },
  {
   "cell_type": "markdown",
   "id": "2c9cf581",
   "metadata": {},
   "source": [
    "Взвешенная F1-мера полногеномных SVC Host Taxon Predictor:"
   ]
  },
  {
   "cell_type": "markdown",
   "id": "8ec9b53f",
   "metadata": {},
   "source": [
    "На геномах 0.71, на фрагментах 800 нуклеотидов 0.59, на фрагментах 400 нуклеотидов 0.54\n"
   ]
  },
  {
   "cell_type": "markdown",
   "id": "67f2ba73",
   "metadata": {},
   "source": [
    "### Обучение и тестирование на фрагментах одной длины"
   ]
  },
  {
   "cell_type": "markdown",
   "id": "579d4cd2",
   "metadata": {},
   "source": [
    "Обучение и тестирование на фрагментах длины 800 нуклеотидов"
   ]
  },
  {
   "cell_type": "code",
   "execution_count": 22,
   "id": "1af0f0a4",
   "metadata": {},
   "outputs": [],
   "source": [
    "X_train, y_train = get_X_y(\"train_800\", meta_df_800)\n",
    "\n",
    "svc_800_models = {}\n",
    "y_dict_svc = dict(zip([\"Insecta\", \"Mammalia\", \"Viridiplantae\"], LabelBinarizer().fit(y_train).transform(y_train).T))\n",
    "\n",
    "for host in host_c_svc.keys():\n",
    "    \n",
    "    svc_800_models[host] = \\\n",
    "                SVC(kernel = 'linear', probability = True, C = host_c_svc[host]).fit(X_train, y_dict_svc[host])"
   ]
  },
  {
   "cell_type": "code",
   "execution_count": 23,
   "id": "4eac77a2",
   "metadata": {},
   "outputs": [
    {
     "name": "stdout",
     "output_type": "stream",
     "text": [
      "               precision    recall  f1-score   support\n",
      "\n",
      "      Insecta       0.51      0.37      0.43       190\n",
      "     Mammalia       0.70      0.83      0.76       320\n",
      "Viridiplantae       0.48      0.46      0.47       166\n",
      "\n",
      "     accuracy                           0.61       676\n",
      "    macro avg       0.57      0.56      0.55       676\n",
      " weighted avg       0.60      0.61      0.60       676\n",
      "\n"
     ]
    }
   ],
   "source": [
    "X_test, y_test = get_X_y(\"test_800\", meta_df_800)\n",
    "\n",
    "SVC_multiclassification(svc_800_models, X_test, y_test)"
   ]
  },
  {
   "cell_type": "markdown",
   "id": "79001ed7",
   "metadata": {},
   "source": [
    "Обучение и тестирование на фрагментах длины 400 нуклеотидов"
   ]
  },
  {
   "cell_type": "code",
   "execution_count": 24,
   "id": "e058e229",
   "metadata": {},
   "outputs": [],
   "source": [
    "X_train, y_train = get_X_y(\"train_400\", meta_df_400)\n",
    "\n",
    "svc_400_models = {}\n",
    "y_dict_svc = dict(zip([\"Insecta\", \"Mammalia\", \"Viridiplantae\"], LabelBinarizer().fit(y_train).transform(y_train).T))\n",
    "\n",
    "for host in host_c_svc.keys():\n",
    "    \n",
    "    svc_400_models[host] = \\\n",
    "                SVC(kernel = 'linear', probability = True, C = host_c_svc[host]).fit(X_train, y_dict_svc[host])"
   ]
  },
  {
   "cell_type": "code",
   "execution_count": 25,
   "id": "d62831c3",
   "metadata": {},
   "outputs": [
    {
     "name": "stdout",
     "output_type": "stream",
     "text": [
      "               precision    recall  f1-score   support\n",
      "\n",
      "      Insecta       0.48      0.31      0.37       190\n",
      "     Mammalia       0.66      0.84      0.74       320\n",
      "Viridiplantae       0.46      0.40      0.43       166\n",
      "\n",
      "     accuracy                           0.58       676\n",
      "    macro avg       0.53      0.52      0.51       676\n",
      " weighted avg       0.56      0.58      0.56       676\n",
      "\n"
     ]
    }
   ],
   "source": [
    "X_test, y_test = get_X_y(\"test_400\", meta_df_400)\n",
    "\n",
    "SVC_multiclassification(svc_400_models, X_test, y_test)"
   ]
  },
  {
   "cell_type": "markdown",
   "id": "2463f2c9",
   "metadata": {},
   "source": [
    "Взвешенная F1-мера SVC Host Taxon Predictor, обученных и протестированных на фрагментах равной длины:"
   ]
  },
  {
   "cell_type": "markdown",
   "id": "7f2f981c",
   "metadata": {},
   "source": [
    "На фрагментах 800 нуклеотидов 0.60, на фрагментах 400 нуклеотидов 0.56"
   ]
  }
 ],
 "metadata": {
  "kernelspec": {
   "display_name": "Python 3 (ipykernel)",
   "language": "python",
   "name": "python3"
  },
  "language_info": {
   "codemirror_mode": {
    "name": "ipython",
    "version": 3
   },
   "file_extension": ".py",
   "mimetype": "text/x-python",
   "name": "python",
   "nbconvert_exporter": "python",
   "pygments_lexer": "ipython3",
   "version": "3.9.13"
  }
 },
 "nbformat": 4,
 "nbformat_minor": 5
}
