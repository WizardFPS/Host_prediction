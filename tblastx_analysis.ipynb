{
 "cells": [
  {
   "cell_type": "code",
   "execution_count": 1,
   "id": "5482d42e",
   "metadata": {},
   "outputs": [],
   "source": [
    "import pandas as pd\n",
    "import pickle\n",
    "from Bio import SeqIO\n",
    "from sklearn.metrics import classification_report\n",
    "import numpy as np"
   ]
  },
  {
   "cell_type": "code",
   "execution_count": 2,
   "id": "0d5e6d27",
   "metadata": {},
   "outputs": [],
   "source": [
    "PATH_SAMPLE_IDS = '/home/parazit/ml_virus_host/v2.0/sample_ids/genomes_fragments_connected/' # путь к файлам, содержащим AC геномов тренировочной, валидайионной и тестовой выборок\n",
    "PATH_DATA = '/home/parazit/ml_virus_host/v2.0/data/' # путь к fasta-файлам (геномы и фрагменты), таблицам с аннотцией\n",
    "PATH_BLAST = \"/home/parazit/ml_virus_host/v2.0/v3.0/baseline/blast/\" # рабочая папка \n",
    "\n",
    "blast_type = \"tblastx/\""
   ]
  },
  {
   "cell_type": "markdown",
   "id": "2603cb00",
   "metadata": {},
   "source": [
    "Таблицы с аннотацией геномов и фрагментов"
   ]
  },
  {
   "cell_type": "code",
   "execution_count": 3,
   "id": "0f1d456e",
   "metadata": {},
   "outputs": [],
   "source": [
    "meta_df_genomes = pd.read_csv(PATH_DATA+\"data_table.tsv\", sep=\"\\t\", index_col = 0)\n",
    "meta_df_800 = pd.read_csv(PATH_DATA+\"data_table_800.tsv\", sep=\"\\t\", index_col = 0)\n",
    "meta_df_400 = pd.read_csv(PATH_DATA+\"data_table_400.tsv\", sep=\"\\t\", index_col = 0)"
   ]
  },
  {
   "cell_type": "markdown",
   "id": "8d0e463b",
   "metadata": {},
   "source": [
    "Списки AC геномов или фрагметов тренировочной, валидационной и тестовой выборок"
   ]
  },
  {
   "cell_type": "code",
   "execution_count": 4,
   "id": "f8760bc9",
   "metadata": {},
   "outputs": [],
   "source": [
    "sample_ids_genomes = pickle.load(open(PATH_SAMPLE_IDS+\"train_val_test_genomes.pkl\", \"rb\"))\n",
    "sample_ids_800 = pickle.load(open(PATH_SAMPLE_IDS+\"train_val_test_800.pkl\", \"rb\"))\n",
    "sample_ids_400 = pickle.load(open(PATH_SAMPLE_IDS+\"train_val_test_400.pkl\", \"rb\"))"
   ]
  },
  {
   "cell_type": "markdown",
   "id": "0e8df3f9",
   "metadata": {},
   "source": [
    "Функция весов хозяев"
   ]
  },
  {
   "cell_type": "code",
   "execution_count": 5,
   "id": "1a96d1e9",
   "metadata": {},
   "outputs": [],
   "source": [
    "def find_and_weight_hosts(finding, df, func_type):\n",
    "    \n",
    "    # выбираем функцию для подсчёта веса\n",
    "    if func_type:\n",
    "        function = finding.pident*finding.qcovs\n",
    "    else:\n",
    "        function = finding.pident\n",
    "    \n",
    "    # создаём таблицу, в которую записываем:\n",
    "    tmp = pd.DataFrame()\n",
    "    tmp[\"findings\"] = finding.sseqid.values # AC каждой находоки\n",
    "    tmp[\"host\"] = df.loc[finding.sseqid.values].host.values # хозяина каждой находоки\n",
    "    tmp[\"weight\"] = (function/function.sum()).values # вес каждой находоки\n",
    "    \n",
    "    tmp.fillna(0, inplace=True)\n",
    "    tmp[\"index\"] = finding.index\n",
    "    \n",
    "    # в случае, если вес хозяина равен 0 (обычно при qcovs*pident значение для qcovs может равняться 0),\n",
    "    # то присваиваем класс \"unclassified\"\n",
    "    tmp.loc[tmp.weight == 0, \"host\"] = \"unclassified\" \n",
    "    tmp.set_index(\"index\", drop=True, inplace=True)\n",
    "\n",
    "    \n",
    "    return(tmp)"
   ]
  },
  {
   "cell_type": "markdown",
   "id": "81a3ed95",
   "metadata": {},
   "source": [
    "Функция, анализирующая выдачу blastn"
   ]
  },
  {
   "cell_type": "code",
   "execution_count": 6,
   "id": "f0d32a25",
   "metadata": {},
   "outputs": [],
   "source": [
    "def blastn_analysis(blastn_out, df_query, df_db, ids_query, weight_type, save_name):\n",
    "\n",
    "    # blastn_out - выдача blastn\n",
    "    # df_query - таблица с аннотацией геномов/фрагментов, по которым проводится поиск blastn\n",
    "    # df_db - таблица с аннотацией геномов, по которым создаётся база бласт\n",
    "    # ids_query - AC геномов/фрагментов тестовой выборки\n",
    "    # weight_type - тип веса хозяев; 0 - pident, 1 - pident*qcovs\n",
    "    # save_name - название файла, который сохранит данная функция\n",
    "    \n",
    "    y_pred, y_true, weights = [], df_query.loc[ids_query].host.values, []\n",
    "\n",
    "\n",
    "    for seq_id in ids_query: # проходимся по каждому id из тестовой выборки\n",
    "\n",
    "        try:\n",
    "            match = blastn_out.loc[seq_id] # достаём все находки бласт для данного id из тестовой выборки\n",
    "            \n",
    "            if type(match) == type(pd.DataFrame()): # если несколько находок, то .loc выдаёт pandas.DataFrame()\n",
    "                tmp = find_and_weight_hosts(match, df_db, weight_type).groupby(\"host\").weight.sum() # функция подсчёта весов\n",
    "                predicted_host = max(zip(tmp.values, tmp.index))[1] # отбираем хозяина с наибольшим весом\n",
    "                weight = max(tmp.values)\n",
    "                \n",
    "            if type(match) == type(pd.Series(0)): # если одна находока, то .loc выдаёт pandas.Series()\n",
    "                tmp = find_and_weight_hosts(pd.DataFrame(match).T, df_db, weight_type).groupby(\"host\").weight.sum() # функция подсчёта весов\n",
    "                predicted_host = max(zip(tmp.values, tmp.index))[1] # отбираем хозяина с наибольшим весом\n",
    "                weight = max(tmp.values)\n",
    "            \n",
    "        except KeyError: # в случае, если находок бласта нет, то присваиваем класс \"unclassified\"\n",
    "            predicted_host = \"unclassified\"\n",
    "            weight = 1.0\n",
    "        \n",
    "        # сохраняем выдачу\n",
    "        y_pred.append(predicted_host), weights.append(weight)\n",
    "        \n",
    "    print(classification_report(y_true, y_pred, zero_division=0))\n",
    "    out = pd.DataFrame(zip(ids_query, y_pred, weights), columns=[\"AC\", \"host\", \"weights\"])\n",
    "    \n",
    "    out.to_csv(PATH_BLAST+\"prediction/\"+blast_type+save_name, sep=\"\\t\", index=0)\n",
    "    return"
   ]
  },
  {
   "cell_type": "markdown",
   "id": "6d5bded0",
   "metadata": {},
   "source": [
    "Если переменная weight_type = 1, то вес рассчитывается по формуле: pident * qcovs\n",
    "Если переменная weight_type = 0, то вес рассчитывается по формуле: pident\n",
    "\n",
    "Важно! Классы хозяев, вес которых = 0, считаются неклассифицированными\n",
    "Иногда qcovs = 0 (плохие выравнивания, стараемся избавиться от них), при этом pident отличен от 0. Находки, которые определяются с помощью pident, "
   ]
  },
  {
   "cell_type": "markdown",
   "id": "55f63923",
   "metadata": {},
   "source": [
    "Качество классификации геномов при использовании всех находок tblastx без фильтрации"
   ]
  },
  {
   "cell_type": "code",
   "execution_count": 7,
   "id": "90aba3a3",
   "metadata": {},
   "outputs": [
    {
     "name": "stdout",
     "output_type": "stream",
     "text": [
      "               precision    recall  f1-score   support\n",
      "\n",
      "      Insecta       0.56      0.47      0.51        95\n",
      "     Mammalia       0.92      0.91      0.91       160\n",
      "Viridiplantae       0.94      0.60      0.74        83\n",
      " unclassified       0.00      0.00      0.00         0\n",
      "\n",
      "     accuracy                           0.71       338\n",
      "    macro avg       0.61      0.50      0.54       338\n",
      " weighted avg       0.83      0.71      0.76       338\n",
      "\n"
     ]
    }
   ],
   "source": [
    "blastn_out = pd.read_csv(PATH_BLAST + \"output/tblastx/tblastx_genomes.tsv\", sep=\"\\t\", index_col=\"qseqid\")\n",
    "\n",
    "\n",
    "df_query = meta_df_genomes\n",
    "df_db = meta_df_genomes\n",
    "ids_query = sample_ids_genomes[2]\n",
    "weight_type = 1\n",
    "save_name = \"tblastx_prediction_genomes.tsv\"\n",
    "\n",
    "\n",
    "\n",
    "\n",
    "blastn_analysis(blastn_out, df_query, df_db, ids_query, weight_type, save_name)"
   ]
  },
  {
   "cell_type": "markdown",
   "id": "69f23f3a",
   "metadata": {},
   "source": [
    "Качество классификации геномов при использовании находок tblastx с длиной выравнивания 100 и более нуклеотидов"
   ]
  },
  {
   "cell_type": "code",
   "execution_count": 8,
   "id": "0a600446",
   "metadata": {},
   "outputs": [
    {
     "name": "stdout",
     "output_type": "stream",
     "text": [
      "               precision    recall  f1-score   support\n",
      "\n",
      "      Insecta       0.72      0.40      0.51        95\n",
      "     Mammalia       0.97      0.59      0.74       160\n",
      "Viridiplantae       1.00      0.55      0.71        83\n",
      " unclassified       0.00      0.00      0.00         0\n",
      "\n",
      "     accuracy                           0.53       338\n",
      "    macro avg       0.67      0.39      0.49       338\n",
      " weighted avg       0.91      0.53      0.67       338\n",
      "\n"
     ]
    }
   ],
   "source": [
    "blastn_out = blastn_out[(blastn_out.length >= 100)]  #(blastn_out.pident >= 50.0) & \n",
    "blastn_analysis(blastn_out, df_query, df_db, ids_query, weight_type, save_name)"
   ]
  },
  {
   "cell_type": "markdown",
   "id": "635537fd",
   "metadata": {},
   "source": [
    "Качество классификации фрагментов длины 800 нуклеотидов при использовании всех находок tblastx без фильтрации"
   ]
  },
  {
   "cell_type": "code",
   "execution_count": 9,
   "id": "a134a912",
   "metadata": {},
   "outputs": [
    {
     "name": "stdout",
     "output_type": "stream",
     "text": [
      "               precision    recall  f1-score   support\n",
      "\n",
      "      Insecta       0.56      0.23      0.33       190\n",
      "     Mammalia       0.98      0.53      0.69       320\n",
      "Viridiplantae       0.92      0.30      0.45       166\n",
      " unclassified       0.00      0.00      0.00         0\n",
      "\n",
      "     accuracy                           0.39       676\n",
      "    macro avg       0.62      0.26      0.37       676\n",
      " weighted avg       0.85      0.39      0.53       676\n",
      "\n"
     ]
    }
   ],
   "source": [
    "blastn_out = pd.read_csv(PATH_BLAST + \"output/tblastx/tblastx_800.tsv\", sep=\"\\t\", index_col=\"qseqid\")\n",
    " \n",
    "\n",
    "df_query = meta_df_800\n",
    "df_db = meta_df_genomes\n",
    "ids_query = sample_ids_800[2]\n",
    "weight_type = 1\n",
    "save_name = \"tblastx_prediction_800.tsv\"\n",
    "\n",
    "\n",
    "\n",
    "\n",
    "blastn_analysis(blastn_out, df_query, df_db, ids_query, weight_type, save_name)"
   ]
  },
  {
   "cell_type": "markdown",
   "id": "157df6a5",
   "metadata": {},
   "source": [
    "Качество классификации фрагментов длины 800 нуклеотидов при использовании находок tblastx с длиной выравнивания 100 и более нуклеотидов"
   ]
  },
  {
   "cell_type": "code",
   "execution_count": 10,
   "id": "592d9e9b",
   "metadata": {},
   "outputs": [
    {
     "name": "stdout",
     "output_type": "stream",
     "text": [
      "               precision    recall  f1-score   support\n",
      "\n",
      "      Insecta       0.50      0.11      0.17       190\n",
      "     Mammalia       0.97      0.21      0.34       320\n",
      "Viridiplantae       0.95      0.13      0.22       166\n",
      " unclassified       0.00      0.00      0.00         0\n",
      "\n",
      "     accuracy                           0.16       676\n",
      "    macro avg       0.61      0.11      0.19       676\n",
      " weighted avg       0.83      0.16      0.27       676\n",
      "\n"
     ]
    }
   ],
   "source": [
    "blastn_out = blastn_out[(blastn_out.length >= 100)]  #(blastn_out.pident >= 50.0) & \n",
    "blastn_analysis(blastn_out, df_query, df_db, ids_query, weight_type, save_name)"
   ]
  },
  {
   "cell_type": "markdown",
   "id": "22255abc",
   "metadata": {},
   "source": [
    "Качество классификации фрагментов длины 400 нуклеотидов при использовании всех находок tblastx без фильтрации"
   ]
  },
  {
   "cell_type": "code",
   "execution_count": 11,
   "id": "d640d357",
   "metadata": {},
   "outputs": [
    {
     "name": "stdout",
     "output_type": "stream",
     "text": [
      "               precision    recall  f1-score   support\n",
      "\n",
      "      Insecta       0.54      0.20      0.29       190\n",
      "     Mammalia       0.97      0.38      0.55       320\n",
      "Viridiplantae       0.97      0.20      0.34       166\n",
      " unclassified       0.00      0.00      0.00         0\n",
      "\n",
      "     accuracy                           0.29       676\n",
      "    macro avg       0.62      0.20      0.29       676\n",
      " weighted avg       0.85      0.29      0.42       676\n",
      "\n"
     ]
    }
   ],
   "source": [
    "blastn_out = pd.read_csv(PATH_BLAST + \"output/tblastx/tblastx_400.tsv\", sep=\"\\t\", index_col=\"qseqid\")\n",
    "\n",
    "\n",
    "df_query = meta_df_400\n",
    "df_db = meta_df_genomes\n",
    "ids_query = sample_ids_400[2]\n",
    "weight_type = 1\n",
    "save_name = \"tblastx_prediction_400.tsv\"\n",
    "\n",
    "\n",
    "\n",
    "\n",
    "blastn_analysis(blastn_out, df_query, df_db, ids_query, weight_type, save_name)"
   ]
  },
  {
   "cell_type": "markdown",
   "id": "c4493fa4",
   "metadata": {},
   "source": [
    "Качество классификации фрагментов длины 800 нуклеотидов при использовании находок tblastx с длиной выравнивания 100 и более нуклеотидов"
   ]
  },
  {
   "cell_type": "code",
   "execution_count": 12,
   "id": "0b5ba5bb",
   "metadata": {},
   "outputs": [
    {
     "name": "stdout",
     "output_type": "stream",
     "text": [
      "               precision    recall  f1-score   support\n",
      "\n",
      "      Insecta       0.56      0.08      0.14       190\n",
      "     Mammalia       1.00      0.11      0.20       320\n",
      "Viridiplantae       1.00      0.06      0.11       166\n",
      " unclassified       0.00      0.00      0.00         0\n",
      "\n",
      "     accuracy                           0.09       676\n",
      "    macro avg       0.64      0.06      0.11       676\n",
      " weighted avg       0.88      0.09      0.16       676\n",
      "\n"
     ]
    }
   ],
   "source": [
    "blastn_out = blastn_out[(blastn_out.length >= 100)]  #(blastn_out.pident >= 50.0) & \n",
    "blastn_analysis(blastn_out, df_query, df_db, ids_query, weight_type, save_name)"
   ]
  }
 ],
 "metadata": {
  "kernelspec": {
   "display_name": "Python 3 (ipykernel)",
   "language": "python",
   "name": "python3"
  },
  "language_info": {
   "codemirror_mode": {
    "name": "ipython",
    "version": 3
   },
   "file_extension": ".py",
   "mimetype": "text/x-python",
   "name": "python",
   "nbconvert_exporter": "python",
   "pygments_lexer": "ipython3",
   "version": "3.9.13"
  }
 },
 "nbformat": 4,
 "nbformat_minor": 5
}
