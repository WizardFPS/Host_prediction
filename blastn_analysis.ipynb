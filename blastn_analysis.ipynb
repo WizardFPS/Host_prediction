{
 "cells": [
  {
   "cell_type": "code",
   "execution_count": 2,
   "id": "fd6c4036",
   "metadata": {},
   "outputs": [],
   "source": [
    "import pandas as pd\n",
    "import pickle\n",
    "from Bio import SeqIO\n",
    "from sklearn.metrics import classification_report\n",
    "import numpy as np"
   ]
  },
  {
   "cell_type": "code",
   "execution_count": 3,
   "id": "0be857f6",
   "metadata": {},
   "outputs": [],
   "source": [
    "PATH_SAMPLE_IDS = '/home/parazit/ml_virus_host/v2.0/sample_ids/genomes_fragments_connected/' # путь к файлам, содержащим AC геномов тренировочной, валидайионной и тестовой выборок\n",
    "PATH_DATA = '/home/parazit/ml_virus_host/v2.0/data/' # путь к fasta-файлам (геномы и фрагменты), таблицам с аннотцией\n",
    "PATH_BLASTN = \"/home/parazit/ml_virus_host/v2.0/v3.0/baseline/blastn/\" # рабочая папка "
   ]
  },
  {
   "cell_type": "markdown",
   "id": "a26d7bbb",
   "metadata": {},
   "source": [
    "Таблицы с аннотацией геномов и фрагментов"
   ]
  },
  {
   "cell_type": "code",
   "execution_count": 4,
   "id": "7feb2ec1",
   "metadata": {},
   "outputs": [],
   "source": [
    "meta_df_genomes = pd.read_csv(PATH_DATA+\"data_table.tsv\", sep=\"\\t\", index_col = 0)\n",
    "meta_df_800 = pd.read_csv(PATH_DATA+\"data_table_800.tsv\", sep=\"\\t\", index_col = 0)\n",
    "meta_df_400 = pd.read_csv(PATH_DATA+\"data_table_400.tsv\", sep=\"\\t\", index_col = 0)"
   ]
  },
  {
   "cell_type": "markdown",
   "id": "c9c9c3a2",
   "metadata": {},
   "source": [
    "Списки AC геномов или фрагметов тренировочной, валидационной и тестовой выборок"
   ]
  },
  {
   "cell_type": "code",
   "execution_count": 5,
   "id": "cf00b844",
   "metadata": {},
   "outputs": [],
   "source": [
    "sample_ids_genomes = pickle.load(open(PATH_SAMPLE_IDS+\"train_val_test_genomes.pkl\", \"rb\"))\n",
    "sample_ids_800 = pickle.load(open(PATH_SAMPLE_IDS+\"train_val_test_800.pkl\", \"rb\"))\n",
    "sample_ids_400 = pickle.load(open(PATH_SAMPLE_IDS+\"train_val_test_400.pkl\", \"rb\"))"
   ]
  },
  {
   "cell_type": "markdown",
   "id": "1aa30a19",
   "metadata": {},
   "source": [
    "Функция весов хозяев"
   ]
  },
  {
   "cell_type": "code",
   "execution_count": 6,
   "id": "d13e794d",
   "metadata": {},
   "outputs": [],
   "source": [
    "def find_and_weight_hosts(finding, df, func_type):\n",
    "    \n",
    "    # выбираем функцию для подсчёта веса\n",
    "    if func_type:\n",
    "        function = finding.pident*finding.qcovs\n",
    "    else:\n",
    "        function = finding.pident\n",
    "    \n",
    "    # создаём таблицу, в которую записываем:\n",
    "    tmp = pd.DataFrame()\n",
    "    tmp[\"findings\"] = finding.sseqid.values # AC каждой находоки\n",
    "    tmp[\"host\"] = df.loc[finding.sseqid.values].host.values # хозяина каждой находоки\n",
    "    tmp[\"weight\"] = (function/function.sum()).values # вес каждой находоки\n",
    "    \n",
    "    tmp.fillna(0, inplace=True)\n",
    "    tmp[\"index\"] = finding.index\n",
    "    \n",
    "    # в случае, если вес хозяина равен 0 (обычно при qcovs*pident значение для qcovs может равняться 0),\n",
    "    # то присваиваем класс \"unclassified\"\n",
    "    tmp.loc[tmp.weight == 0, \"host\"] = \"unclassified\" \n",
    "    tmp.set_index(\"index\", drop=True, inplace=True)\n",
    "\n",
    "    \n",
    "    return(tmp)"
   ]
  },
  {
   "cell_type": "markdown",
   "id": "05000b54",
   "metadata": {},
   "source": [
    "Функция, анализирующая выдачу blastn"
   ]
  },
  {
   "cell_type": "code",
   "execution_count": 10,
   "id": "252f192c",
   "metadata": {},
   "outputs": [],
   "source": [
    "def blastn_analysis(blastn_out, df_query, df_db, ids_query, weight_type, save_name):\n",
    "\n",
    "    # blastn_out - выдача blastn\n",
    "    # df_query - таблица с аннотацией геномов/фрагментов, по которым проводится поиск blastn\n",
    "    # df_db - таблица с аннотацией геномов, по которым создаётся база бласт\n",
    "    # ids_query - AC геномов/фрагментов тестовой выборки\n",
    "    # weight_type - тип веса хозяев; 0 - pident, 1 - pident*qcovs\n",
    "    # save_name - название файла, который сохранит данная функция\n",
    "    \n",
    "    y_pred, y_true, weights = [], df_query.loc[ids_query].host.values, []\n",
    "\n",
    "\n",
    "    for seq_id in ids_query: # проходимся по каждому id из тестовой выборки\n",
    "\n",
    "        try:\n",
    "            match = blastn_out.loc[seq_id] # достаём все находки бласт для данного id из тестовой выборки\n",
    "            \n",
    "            if type(match) == type(pd.DataFrame()): # если несколько находок, то .loc выдаёт pandas.DataFrame()\n",
    "                tmp = find_and_weight_hosts(match, df_db, weight_type).groupby(\"host\").weight.sum() # функция подсчёта весов\n",
    "                predicted_host = max(zip(tmp.values, tmp.index))[1] # отбираем хозяина с наибольшим весом\n",
    "                weight = max(tmp.values)\n",
    "                \n",
    "            if type(match) == type(pd.Series(0)): # если одна находока, то .loc выдаёт pandas.Series()\n",
    "                tmp = find_and_weight_hosts(pd.DataFrame(match).T, df_db, weight_type).groupby(\"host\").weight.sum() # функция подсчёта весов\n",
    "                predicted_host = max(zip(tmp.values, tmp.index))[1] # отбираем хозяина с наибольшим весом\n",
    "                weight = max(tmp.values)\n",
    "            \n",
    "        except KeyError: # в случае, если находок бласта нет, то присваиваем класс \"unclassified\"\n",
    "            predicted_host = \"unclassified\"\n",
    "            weight = 1.0\n",
    "        \n",
    "        # сохраняем выдачу\n",
    "        y_pred.append(predicted_host), weights.append(weight)\n",
    "        \n",
    "    print(classification_report(y_true, y_pred, zero_division=0))\n",
    "    out = pd.DataFrame(zip(ids_query, y_pred, weights), columns=[\"AC\", \"host\", \"weights\"])\n",
    "    \n",
    "    out.to_csv(PATH_BLASTN+\"prediction/\"+save_name, sep=\"\\t\", index=0)\n",
    "    return"
   ]
  },
  {
   "cell_type": "markdown",
   "id": "027b7cef",
   "metadata": {},
   "source": [
    "Если переменная weight_type = 1, то вес рассчитывается по формуле: pident * qcovs\n",
    "Если переменная weight_type = 0, то вес рассчитывается по формуле: pident\n",
    "\n",
    "Важно! Классы хозяев, вес которых = 0, считаются неклассифицированными\n",
    "Иногда qcovs = 0 (плохие выравнивания, стараемся избавиться от них), при этом pident отличен от 0. Находки, которые определяются с помощью pident, "
   ]
  },
  {
   "cell_type": "code",
   "execution_count": 12,
   "id": "35d0c135",
   "metadata": {},
   "outputs": [
    {
     "name": "stdout",
     "output_type": "stream",
     "text": [
      "               precision    recall  f1-score   support\n",
      "\n",
      "      Insecta       0.62      0.29      0.40        95\n",
      "     Mammalia       0.92      0.67      0.78       160\n",
      "Viridiplantae       0.97      0.40      0.56        83\n",
      " unclassified       0.00      0.00      0.00         0\n",
      "\n",
      "     accuracy                           0.50       338\n",
      "    macro avg       0.63      0.34      0.43       338\n",
      " weighted avg       0.85      0.50      0.62       338\n",
      "\n"
     ]
    }
   ],
   "source": [
    "blastn_out = pd.read_csv(PATH_BLASTN + \"output/blastn_genomes.csv\", sep=\"\\t\", index_col=\"qseqid\")\n",
    "df_query = meta_df_genomes\n",
    "df_db = meta_df_genomes\n",
    "ids_query = sample_ids_genomes[2]\n",
    "weight_type = 0\n",
    "save_name = \"blastn_prediction_genomes.tsv\"\n",
    "\n",
    "\n",
    "\n",
    "\n",
    "blastn_analysis(blastn_out, df_query, df_db, ids_query, weight_type, save_name)"
   ]
  },
  {
   "cell_type": "code",
   "execution_count": 13,
   "id": "f7394c00",
   "metadata": {},
   "outputs": [
    {
     "name": "stdout",
     "output_type": "stream",
     "text": [
      "               precision    recall  f1-score   support\n",
      "\n",
      "      Insecta       0.47      0.11      0.18       190\n",
      "     Mammalia       0.92      0.25      0.40       320\n",
      "Viridiplantae       0.94      0.09      0.16       166\n",
      " unclassified       0.00      0.00      0.00         0\n",
      "\n",
      "     accuracy                           0.17       676\n",
      "    macro avg       0.58      0.11      0.19       676\n",
      " weighted avg       0.80      0.17      0.28       676\n",
      "\n"
     ]
    }
   ],
   "source": [
    "blastn_out = pd.read_csv(PATH_BLASTN + \"output/blastn_800.csv\", sep=\"\\t\", index_col=\"qseqid\")\n",
    "df_query = meta_df_800\n",
    "df_db = meta_df_genomes\n",
    "ids_query = sample_ids_800[2]\n",
    "weight_type = 0\n",
    "save_name = \"blastn_prediction_800.tsv\"\n",
    "\n",
    "\n",
    "\n",
    "\n",
    "blastn_analysis(blastn_out, df_query, df_db, ids_query, weight_type, save_name)"
   ]
  },
  {
   "cell_type": "code",
   "execution_count": 15,
   "id": "7ba18082",
   "metadata": {},
   "outputs": [
    {
     "name": "stdout",
     "output_type": "stream",
     "text": [
      "               precision    recall  f1-score   support\n",
      "\n",
      "      Insecta       0.69      0.11      0.18       190\n",
      "     Mammalia       0.98      0.12      0.22       320\n",
      "Viridiplantae       1.00      0.05      0.09       166\n",
      " unclassified       0.00      0.00      0.00         0\n",
      "\n",
      "     accuracy                           0.10       676\n",
      "    macro avg       0.67      0.07      0.12       676\n",
      " weighted avg       0.90      0.10      0.18       676\n",
      "\n"
     ]
    }
   ],
   "source": [
    "blastn_out = pd.read_csv(PATH_BLASTN + \"output/blastn_400.csv\", sep=\"\\t\", index_col=\"qseqid\")\n",
    "df_query = meta_df_400\n",
    "df_db = meta_df_genomes\n",
    "ids_query = sample_ids_400[2]\n",
    "weight_type = 0\n",
    "save_name = \"blastn_prediction_400.tsv\"\n",
    "\n",
    "\n",
    "\n",
    "\n",
    "blastn_analysis(blastn_out, df_query, df_db, ids_query, weight_type, save_name)"
   ]
  }
 ],
 "metadata": {
  "kernelspec": {
   "display_name": "Python 3 (ipykernel)",
   "language": "python",
   "name": "python3"
  },
  "language_info": {
   "codemirror_mode": {
    "name": "ipython",
    "version": 3
   },
   "file_extension": ".py",
   "mimetype": "text/x-python",
   "name": "python",
   "nbconvert_exporter": "python",
   "pygments_lexer": "ipython3",
   "version": "3.9.13"
  }
 },
 "nbformat": 4,
 "nbformat_minor": 5
}
