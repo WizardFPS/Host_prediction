{
 "cells": [
  {
   "cell_type": "code",
   "execution_count": 1,
   "id": "7a691a22",
   "metadata": {},
   "outputs": [],
   "source": [
    "import pickle\n",
    "import pandas as pd\n",
    "import random\n",
    "import numpy as np\n",
    "from collections import Counter\n",
    "from sklearn.model_selection import GroupShuffleSplit\n",
    "\n",
    "random.seed(123)\n",
    "\n",
    "import warnings\n",
    "warnings.simplefilter(action='ignore', category=FutureWarning)"
   ]
  },
  {
   "cell_type": "code",
   "execution_count": 2,
   "id": "72885883",
   "metadata": {},
   "outputs": [],
   "source": [
    "PATH = \"/home/parazit/ml_virus_host/v2.0/\"\n",
    "PATH_SAMPLE_IDS= PATH+\"v3.0/sample_ids/\"\n",
    "PATH_DATA = PATH+\"data/\""
   ]
  },
  {
   "cell_type": "code",
   "execution_count": 3,
   "id": "524b8eda",
   "metadata": {},
   "outputs": [],
   "source": [
    "meta_df_genomes = pd.read_csv(PATH_DATA+\"data_table.tsv\", sep=\"\\t\", index_col = 0)"
   ]
  },
  {
   "cell_type": "code",
   "execution_count": 4,
   "id": "72559da4",
   "metadata": {},
   "outputs": [
    {
     "data": {
      "text/html": [
       "<div>\n",
       "<style scoped>\n",
       "    .dataframe tbody tr th:only-of-type {\n",
       "        vertical-align: middle;\n",
       "    }\n",
       "\n",
       "    .dataframe tbody tr th {\n",
       "        vertical-align: top;\n",
       "    }\n",
       "\n",
       "    .dataframe thead th {\n",
       "        text-align: right;\n",
       "    }\n",
       "</style>\n",
       "<table border=\"1\" class=\"dataframe\">\n",
       "  <thead>\n",
       "    <tr style=\"text-align: right;\">\n",
       "      <th></th>\n",
       "      <th>virus tax id</th>\n",
       "      <th>virus name</th>\n",
       "      <th>virus family</th>\n",
       "      <th>host</th>\n",
       "      <th>host name</th>\n",
       "      <th>virus genus</th>\n",
       "    </tr>\n",
       "    <tr>\n",
       "      <th>refseq id</th>\n",
       "      <th></th>\n",
       "      <th></th>\n",
       "      <th></th>\n",
       "      <th></th>\n",
       "      <th></th>\n",
       "      <th></th>\n",
       "    </tr>\n",
       "  </thead>\n",
       "  <tbody>\n",
       "    <tr>\n",
       "      <th>NC_001846</th>\n",
       "      <td>11138</td>\n",
       "      <td>Murine hepatitis virus</td>\n",
       "      <td>Coronaviridae</td>\n",
       "      <td>Mammalia</td>\n",
       "      <td>Mus musculus</td>\n",
       "      <td>Betacoronavirus</td>\n",
       "    </tr>\n",
       "    <tr>\n",
       "      <th>NC_026798</th>\n",
       "      <td>1587515</td>\n",
       "      <td>Black grass varicosavirus-like virus</td>\n",
       "      <td>Rhabdoviridae</td>\n",
       "      <td>Viridiplantae</td>\n",
       "      <td>Alopecurus myosuroides</td>\n",
       "      <td>Varicosavirus</td>\n",
       "    </tr>\n",
       "    <tr>\n",
       "      <th>NC_055213</th>\n",
       "      <td>2010276</td>\n",
       "      <td>Culex phasma-like virus</td>\n",
       "      <td>Phasmaviridae</td>\n",
       "      <td>Insecta</td>\n",
       "      <td>Culex quinquefasciatus</td>\n",
       "      <td>Orthophasmavirus</td>\n",
       "    </tr>\n",
       "    <tr>\n",
       "      <th>NC_001411</th>\n",
       "      <td>12285</td>\n",
       "      <td>Black beetle virus</td>\n",
       "      <td>Nodaviridae</td>\n",
       "      <td>Insecta</td>\n",
       "      <td>Heteronychus arator</td>\n",
       "      <td>Alphanodavirus</td>\n",
       "    </tr>\n",
       "    <tr>\n",
       "      <th>NC_016517</th>\n",
       "      <td>1127767</td>\n",
       "      <td>Espirito Santo virus</td>\n",
       "      <td>Birnaviridae</td>\n",
       "      <td>Insecta</td>\n",
       "      <td>Aedes albopictus</td>\n",
       "      <td>unclassified Birnaviridaevirus</td>\n",
       "    </tr>\n",
       "  </tbody>\n",
       "</table>\n",
       "</div>"
      ],
      "text/plain": [
       "           virus tax id                            virus name   virus family  \\\n",
       "refseq id                                                                      \n",
       "NC_001846         11138                Murine hepatitis virus  Coronaviridae   \n",
       "NC_026798       1587515  Black grass varicosavirus-like virus  Rhabdoviridae   \n",
       "NC_055213       2010276               Culex phasma-like virus  Phasmaviridae   \n",
       "NC_001411         12285                    Black beetle virus    Nodaviridae   \n",
       "NC_016517       1127767                  Espirito Santo virus   Birnaviridae   \n",
       "\n",
       "                    host               host name  \\\n",
       "refseq id                                          \n",
       "NC_001846       Mammalia            Mus musculus   \n",
       "NC_026798  Viridiplantae  Alopecurus myosuroides   \n",
       "NC_055213        Insecta  Culex quinquefasciatus   \n",
       "NC_001411        Insecta     Heteronychus arator   \n",
       "NC_016517        Insecta        Aedes albopictus   \n",
       "\n",
       "                              virus genus  \n",
       "refseq id                                  \n",
       "NC_001846                 Betacoronavirus  \n",
       "NC_026798                   Varicosavirus  \n",
       "NC_055213                Orthophasmavirus  \n",
       "NC_001411                  Alphanodavirus  \n",
       "NC_016517  unclassified Birnaviridaevirus  "
      ]
     },
     "execution_count": 4,
     "metadata": {},
     "output_type": "execute_result"
    }
   ],
   "source": [
    "meta_df_genomes.head()"
   ]
  },
  {
   "cell_type": "code",
   "execution_count": 5,
   "id": "d4675e1f",
   "metadata": {},
   "outputs": [],
   "source": [
    "def StratifiedGroupShuffleSplit(df_main, taxa_lvl):\n",
    "\n",
    "    df_main = df_main.reindex(np.random.permutation(df_main.index)) # shuffle dataset\n",
    "\n",
    "    # create empty train, val and test datasets\n",
    "    df_train = pd.DataFrame()\n",
    "    df_val = pd.DataFrame()\n",
    "    df_test = pd.DataFrame()\n",
    "\n",
    "    hparam_mse_wgt = 0.1 # must be between 0 and 1\n",
    "    assert(0 <= hparam_mse_wgt <= 1)\n",
    "    train_proportion = 0.6 # must be between 0 and 1\n",
    "    assert(0 <= train_proportion <= 1)\n",
    "    val_test_proportion = (1-train_proportion)/2\n",
    "\n",
    "    subject_grouped_df_main = df_main.groupby([taxa_lvl], sort=False, as_index=False)\n",
    "    category_grouped_df_main = df_main.groupby('host').count()[[taxa_lvl]]/len(df_main)*100\n",
    "\n",
    "    def calc_mse_loss(df):\n",
    "        grouped_df = df.groupby('host').count()[[taxa_lvl]]/len(df)*100\n",
    "        df_temp = category_grouped_df_main.join(grouped_df, on = 'host', how = 'left', lsuffix = '_main')\n",
    "        df_temp.fillna(0, inplace=True)\n",
    "        df_temp['diff'] = (df_temp[taxa_lvl+'_main'] - df_temp[taxa_lvl])**2\n",
    "        mse_loss = np.mean(df_temp['diff'])\n",
    "        return mse_loss\n",
    "\n",
    "    i = 0\n",
    "    for _, group in subject_grouped_df_main:\n",
    "\n",
    "        if (i < 3):\n",
    "            if (i == 0):\n",
    "                df_train = df_train.append(pd.DataFrame(group), ignore_index=True)\n",
    "                i += 1\n",
    "                continue\n",
    "            elif (i == 1):\n",
    "                df_val = df_val.append(pd.DataFrame(group), ignore_index=True)\n",
    "                i += 1\n",
    "                continue\n",
    "            else:\n",
    "                df_test = df_test.append(pd.DataFrame(group), ignore_index=True)\n",
    "                i += 1\n",
    "                continue\n",
    "\n",
    "        mse_loss_diff_train = calc_mse_loss(df_train) - calc_mse_loss(df_train.append(pd.DataFrame(group), ignore_index=True))\n",
    "        mse_loss_diff_val = calc_mse_loss(df_val) - calc_mse_loss(df_val.append(pd.DataFrame(group), ignore_index=True))\n",
    "        mse_loss_diff_test = calc_mse_loss(df_test) - calc_mse_loss(df_test.append(pd.DataFrame(group), ignore_index=True))\n",
    "\n",
    "        total_records = len(df_train) + len(df_val) + len(df_test)\n",
    "\n",
    "        len_diff_train = (train_proportion - (len(df_train)/total_records))\n",
    "        len_diff_val = (val_test_proportion - (len(df_val)/total_records))\n",
    "        len_diff_test = (val_test_proportion - (len(df_test)/total_records)) \n",
    "\n",
    "        len_loss_diff_train = len_diff_train * abs(len_diff_train)\n",
    "        len_loss_diff_val = len_diff_val * abs(len_diff_val)\n",
    "        len_loss_diff_test = len_diff_test * abs(len_diff_test)\n",
    "\n",
    "        loss_train = (hparam_mse_wgt * mse_loss_diff_train) + ((1-hparam_mse_wgt) * len_loss_diff_train)\n",
    "        loss_val = (hparam_mse_wgt * mse_loss_diff_val) + ((1-hparam_mse_wgt) * len_loss_diff_val)\n",
    "        loss_test = (hparam_mse_wgt * mse_loss_diff_test) + ((1-hparam_mse_wgt) * len_loss_diff_test)\n",
    "\n",
    "        if (max(loss_train,loss_val,loss_test) == loss_train):\n",
    "            df_train = df_train.append(pd.DataFrame(group), ignore_index=True)\n",
    "        elif (max(loss_train,loss_val,loss_test) == loss_val):\n",
    "            df_val = df_val.append(pd.DataFrame(group), ignore_index=True)\n",
    "        else:\n",
    "            df_test = df_test.append(pd.DataFrame(group), ignore_index=True)\n",
    "\n",
    "        #print (\"Group \" + str(i) + \". loss_train: \" + str(loss_train) + \" | \" + \"loss_val: \" + str(loss_val) + \" | \" + \"loss_test: \" + str(loss_test) + \" | \")\n",
    "        i += 1\n",
    "\n",
    "    return df_train, df_val, df_test"
   ]
  },
  {
   "cell_type": "markdown",
   "id": "003c9aff",
   "metadata": {},
   "source": [
    "Выбираем целевуе переменную (хозяин) и столбец с нужным таксономическим уровнем вирусов (род)"
   ]
  },
  {
   "cell_type": "code",
   "execution_count": 6,
   "id": "187dfb7d",
   "metadata": {},
   "outputs": [],
   "source": [
    "df = meta_df_genomes[[\"host\", \"virus genus\"]].reset_index()"
   ]
  },
  {
   "cell_type": "markdown",
   "id": "3054cf19",
   "metadata": {},
   "source": [
    "Разбиваем данные на 3 подвыборки (df_train, df_val, df_test) до тех пор, пока каждая из выборок будет содержать не менее 200 геномов"
   ]
  },
  {
   "cell_type": "code",
   "execution_count": 7,
   "id": "241c10a1",
   "metadata": {},
   "outputs": [],
   "source": [
    "df_train, df_val, df_test = StratifiedGroupShuffleSplit(df, \"virus genus\")\n",
    "while len(df_train) < 200 or len(df_val) < 200 or len(df_test) < 200:\n",
    "    df_train, df_val, df_test = StratifiedGroupShuffleSplit(df, \"virus genus\")"
   ]
  },
  {
   "cell_type": "markdown",
   "id": "295644bc",
   "metadata": {},
   "source": [
    "Функция для вывода словаря с названиями хозяев на русском"
   ]
  },
  {
   "cell_type": "code",
   "execution_count": 8,
   "id": "d61d599f",
   "metadata": {},
   "outputs": [],
   "source": [
    "def rus_dict(df_inside):\n",
    "    out = dict(zip([\"Насекомые\", \"Млекопитающие\", \"Растения\"], \\\n",
    "             dict(sorted({k:round((v*100/len(df_inside)), 2) for k, v in Counter(df_inside.host).items()}.items())).values()))\n",
    "    print(str(out)[1:-1])\n",
    "    return"
   ]
  },
  {
   "cell_type": "markdown",
   "id": "093268b6",
   "metadata": {},
   "source": [
    "Печатаем статистику разбиения и решаем, подходит ли оно"
   ]
  },
  {
   "cell_type": "code",
   "execution_count": 9,
   "id": "4025ab61",
   "metadata": {},
   "outputs": [
    {
     "name": "stdout",
     "output_type": "stream",
     "text": [
      "Подвыборка №1\n",
      "Размер: 217 геномов, 15.61% от исходного датасета\n",
      "'Насекомые': 33.64, 'Млекопитающие': 44.7, 'Растения': 21.66\n",
      "\n",
      "\n",
      "Подвыборка №2\n",
      "Размер: 900 геномов, 64.75% от исходного датасета\n",
      "'Насекомые': 23.44, 'Млекопитающие': 49.33, 'Растения': 27.22\n",
      "\n",
      "\n",
      "Подвыборка №3\n",
      "Размер: 273 геномов, 19.64% от исходного датасета\n",
      "'Насекомые': 28.94, 'Млекопитающие': 49.08, 'Растения': 21.98\n",
      "\n",
      "\n"
     ]
    }
   ],
   "source": [
    "print(\"Подвыборка №1\")    \n",
    "le = len(df_train)\n",
    "print(\"Размер: \"+ str(le) + \" геномов, \" + str(round(le*100/1390, 2)) + \"% от исходного датасета\")\n",
    "rus_dict(df_train)\n",
    "print(\"\\n\")\n",
    "\n",
    "print(\"Подвыборка №2\")  \n",
    "le = len(df_val)\n",
    "print(\"Размер: \"+ str(le) + \" геномов, \" + str(round(le*100/1390, 2)) + \"% от исходного датасета\")\n",
    "rus_dict(df_val)\n",
    "print(\"\\n\")\n",
    "\n",
    "print(\"Подвыборка №3\")\n",
    "le = len(df_test)\n",
    "print(\"Размер: \"+ str(le) + \" геномов, \" + str(round(le*100/1390, 2)) + \"% от исходного датасета\")\n",
    "rus_dict(df_test)\n",
    "print(\"\\n\")"
   ]
  },
  {
   "cell_type": "markdown",
   "id": "54439cec",
   "metadata": {},
   "source": [
    "Если разбиение подходит, сохраняем в последовательности \"тренировочная, валидационная, тестовая\" выборки"
   ]
  },
  {
   "cell_type": "code",
   "execution_count": 10,
   "id": "f1e1d5dd",
   "metadata": {},
   "outputs": [],
   "source": [
    "train_ids_g = df_test[\"refseq id\"].values\n",
    "val_ids_g = df_train[\"refseq id\"].values\n",
    "test_ids_g = df_val[\"refseq id\"].values\n",
    "\n",
    "output_samples = [train_ids_g, val_ids_g, test_ids_g]"
   ]
  },
  {
   "cell_type": "code",
   "execution_count": null,
   "id": "3a3847a9",
   "metadata": {},
   "outputs": [],
   "source": [
    "with open(\"/home/parazit/ml_virus_host/v2.0/v3.0/sample_ids/FILENAME.pkl\", 'wb') as file:\n",
    "    pickle.dump(output_samples, file)"
   ]
  },
  {
   "cell_type": "markdown",
   "id": "0829d006",
   "metadata": {},
   "source": [
    "# Состав выборок с непересекающимися родами"
   ]
  },
  {
   "cell_type": "markdown",
   "id": "d06cd1ab",
   "metadata": {},
   "source": [
    "5 итераций, разбиение - непересекающиеся рода. Итерация №0 использовалась для подбора параметров моделей, для оставшихся итераций использовались те же параметры."
   ]
  },
  {
   "cell_type": "code",
   "execution_count": 11,
   "id": "7db239c1",
   "metadata": {},
   "outputs": [
    {
     "name": "stdout",
     "output_type": "stream",
     "text": [
      "Разбиение №0\n",
      "Train : Validation : Test\n",
      "829 : 223 : 338\n",
      "59.64% : 16.04% : 24.32%\n",
      "\n",
      "\n",
      "Разбиение №1\n",
      "Train : Validation : Test\n",
      "627 : 459 : 304\n",
      "45.11% : 33.02% : 21.87%\n",
      "\n",
      "\n",
      "Разбиение №2\n",
      "Train : Validation : Test\n",
      "766 : 281 : 343\n",
      "55.11% : 20.22% : 24.68%\n",
      "\n",
      "\n",
      "Разбиение №3\n",
      "Train : Validation : Test\n",
      "854 : 253 : 283\n",
      "61.44% : 18.2% : 20.36%\n",
      "\n",
      "\n",
      "Разбиение №4\n",
      "Train : Validation : Test\n",
      "902 : 235 : 253\n",
      "64.89% : 16.91% : 18.2%\n",
      "\n",
      "\n"
     ]
    }
   ],
   "source": [
    "samples_lst = []\n",
    "for n in range(5):\n",
    "    samples_lst.append(pickle.load(open(PATH_SAMPLE_IDS+\"train_val_test_genomes_genera_it\"+str(n)+\".pkl\", \"rb\")))\n",
    "    \n",
    "    \n",
    "i=-1\n",
    "\n",
    "for iteration in samples_lst:\n",
    "    i+=1\n",
    "    print(\"Разбиение №\"+str(i))\n",
    "    print(\"Train : Validation : Test\")\n",
    "    print(str(len(iteration[0])) + \" : \" + str(len(iteration[1])) + \" : \" + str(len(iteration[2])))\n",
    "    print(str(round(len(iteration[0])*100/1390, 2)) +\"%\" + \" : \" + str(round(len(iteration[1])*100/1390, 2))+\"%\" + \" : \" + str(round(len(iteration[2])*100/1390, 2))+\"%\")\n",
    "    print(\"\\n\")"
   ]
  },
  {
   "cell_type": "markdown",
   "id": "bf54a087",
   "metadata": {},
   "source": [
    "# Создание выборок фрагментов (случайно отбираем по 2 фрагмента на геном)"
   ]
  },
  {
   "cell_type": "code",
   "execution_count": 12,
   "id": "161298da",
   "metadata": {},
   "outputs": [],
   "source": [
    "meta_df_800 = pd.read_csv(PATH_DATA+\"data_table_800.tsv\", sep=\"\\t\", index_col = 3)\n",
    "meta_df_400 = pd.read_csv(PATH_DATA+\"data_table_400.tsv\", sep=\"\\t\", index_col = 3)"
   ]
  },
  {
   "cell_type": "markdown",
   "id": "da0ff757",
   "metadata": {},
   "source": [
    "Столбец \"gbac\" содержит id фрагментов "
   ]
  },
  {
   "cell_type": "code",
   "execution_count": 13,
   "id": "b5c995b1",
   "metadata": {},
   "outputs": [
    {
     "data": {
      "text/html": [
       "<div>\n",
       "<style scoped>\n",
       "    .dataframe tbody tr th:only-of-type {\n",
       "        vertical-align: middle;\n",
       "    }\n",
       "\n",
       "    .dataframe tbody tr th {\n",
       "        vertical-align: top;\n",
       "    }\n",
       "\n",
       "    .dataframe thead th {\n",
       "        text-align: right;\n",
       "    }\n",
       "</style>\n",
       "<table border=\"1\" class=\"dataframe\">\n",
       "  <thead>\n",
       "    <tr style=\"text-align: right;\">\n",
       "      <th></th>\n",
       "      <th>gbac</th>\n",
       "      <th>host</th>\n",
       "      <th>family</th>\n",
       "      <th>genus</th>\n",
       "    </tr>\n",
       "    <tr>\n",
       "      <th>genomes_ids</th>\n",
       "      <th></th>\n",
       "      <th></th>\n",
       "      <th></th>\n",
       "      <th></th>\n",
       "    </tr>\n",
       "  </thead>\n",
       "  <tbody>\n",
       "    <tr>\n",
       "      <th>NC_001846</th>\n",
       "      <td>NC_001846_0</td>\n",
       "      <td>Mammalia</td>\n",
       "      <td>Coronaviridae</td>\n",
       "      <td>Betacoronavirus</td>\n",
       "    </tr>\n",
       "    <tr>\n",
       "      <th>NC_001846</th>\n",
       "      <td>NC_001846_1</td>\n",
       "      <td>Mammalia</td>\n",
       "      <td>Coronaviridae</td>\n",
       "      <td>Betacoronavirus</td>\n",
       "    </tr>\n",
       "    <tr>\n",
       "      <th>NC_001846</th>\n",
       "      <td>NC_001846_2</td>\n",
       "      <td>Mammalia</td>\n",
       "      <td>Coronaviridae</td>\n",
       "      <td>Betacoronavirus</td>\n",
       "    </tr>\n",
       "    <tr>\n",
       "      <th>NC_001846</th>\n",
       "      <td>NC_001846_3</td>\n",
       "      <td>Mammalia</td>\n",
       "      <td>Coronaviridae</td>\n",
       "      <td>Betacoronavirus</td>\n",
       "    </tr>\n",
       "    <tr>\n",
       "      <th>NC_001846</th>\n",
       "      <td>NC_001846_4</td>\n",
       "      <td>Mammalia</td>\n",
       "      <td>Coronaviridae</td>\n",
       "      <td>Betacoronavirus</td>\n",
       "    </tr>\n",
       "  </tbody>\n",
       "</table>\n",
       "</div>"
      ],
      "text/plain": [
       "                    gbac      host         family            genus\n",
       "genomes_ids                                                       \n",
       "NC_001846    NC_001846_0  Mammalia  Coronaviridae  Betacoronavirus\n",
       "NC_001846    NC_001846_1  Mammalia  Coronaviridae  Betacoronavirus\n",
       "NC_001846    NC_001846_2  Mammalia  Coronaviridae  Betacoronavirus\n",
       "NC_001846    NC_001846_3  Mammalia  Coronaviridae  Betacoronavirus\n",
       "NC_001846    NC_001846_4  Mammalia  Coronaviridae  Betacoronavirus"
      ]
     },
     "execution_count": 13,
     "metadata": {},
     "output_type": "execute_result"
    }
   ],
   "source": [
    "meta_df_800.head()"
   ]
  },
  {
   "cell_type": "markdown",
   "id": "10011451",
   "metadata": {},
   "source": [
    "Разбиение геномов на обучающую, валидационную и тестовую выборки"
   ]
  },
  {
   "cell_type": "code",
   "execution_count": 14,
   "id": "5f7ad12e",
   "metadata": {},
   "outputs": [],
   "source": [
    "sample_ids_genomes = pickle.load(open(PATH_SAMPLE_IDS + \"train_val_test_genomes_genera_it0.pkl\", \"rb\"))"
   ]
  },
  {
   "cell_type": "markdown",
   "id": "5376ef5a",
   "metadata": {},
   "source": [
    "Функция для выделения id фрагментов, соотвествующих геномам"
   ]
  },
  {
   "cell_type": "code",
   "execution_count": 15,
   "id": "b16040bb",
   "metadata": {},
   "outputs": [],
   "source": [
    "def extract_fragments(meta_df_fragments, sample_ids_genomes, length, taxa_level):\n",
    "    \n",
    "    # отбираем по 2 фрагмета на геном\n",
    "    train_ids = meta_df_fragments.loc[sample_ids_genomes[0]].groupby(\"genomes_ids\").sample(2).gbac.values\n",
    "    val_ids = meta_df_fragments.loc[sample_ids_genomes[1]].groupby(\"genomes_ids\").sample(2).gbac.values\n",
    "    test_ids = meta_df_fragments.loc[sample_ids_genomes[2]].groupby(\"genomes_ids\").sample(2).gbac.values\n",
    "    \n",
    "    # сохраняем в последовательности \"обучающая, валидационная, тестовая\" выборки\n",
    "    output = [train_ids, val_ids, test_ids]\n",
    "\n",
    "    with open(\"/home/parazit/ml_virus_host/v2.0/v3.0/sample_ids/train_val_test_+\"+str(length)+\"+_\"+taxa_level+\".pkl\", 'wb') as file:\n",
    "        pickle.dump(output, file)"
   ]
  },
  {
   "cell_type": "markdown",
   "id": "6eb4ac50",
   "metadata": {},
   "source": [
    "Пример использования"
   ]
  },
  {
   "cell_type": "code",
   "execution_count": null,
   "id": "423c0195",
   "metadata": {},
   "outputs": [],
   "source": [
    "extract_fragments(meta_df_800, sample_ids_genomes, \"800\", \"genera\")"
   ]
  }
 ],
 "metadata": {
  "kernelspec": {
   "display_name": "Python 3 (ipykernel)",
   "language": "python",
   "name": "python3"
  },
  "language_info": {
   "codemirror_mode": {
    "name": "ipython",
    "version": 3
   },
   "file_extension": ".py",
   "mimetype": "text/x-python",
   "name": "python",
   "nbconvert_exporter": "python",
   "pygments_lexer": "ipython3",
   "version": "3.9.13"
  }
 },
 "nbformat": 4,
 "nbformat_minor": 5
}
