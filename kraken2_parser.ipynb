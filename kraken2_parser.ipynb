{
 "cells": [
  {
   "cell_type": "code",
   "execution_count": 6,
   "id": "367550b0",
   "metadata": {},
   "outputs": [],
   "source": [
    "import pandas as pd\n",
    "from Bio import SeqIO\n",
    "import gzip\n",
    "import re"
   ]
  },
  {
   "cell_type": "markdown",
   "id": "03adcf91",
   "metadata": {},
   "source": [
    "Необходимо иметь файл с прочтениями и файл с таблицей таксономического профилирования Kraken2"
   ]
  },
  {
   "cell_type": "code",
   "execution_count": 11,
   "id": "f50f1a78",
   "metadata": {},
   "outputs": [],
   "source": [
    "# файл с прочтениями, которые не были картированы на геном хозяина (в данном случае - на геном летучих мышей)\n",
    "file_path_fastq = \"D:\\\\host_predicition\\\\raw_data\\\\SAMN37347010_merged_unmapped.fastq.gz\"\n",
    "\n",
    "# файл с таблицей - вывод профилирования программой Kraken2\n",
    "file_path_kraken2 = \"D:\\\\host_predicition\\\\raw_data\\\\SAMN37347010_k2.output\""
   ]
  },
  {
   "cell_type": "code",
   "execution_count": 99,
   "id": "76c9aaad",
   "metadata": {},
   "outputs": [],
   "source": [
    "df = pd.read_csv(file_path_kraken2, sep=\"\\t\")"
   ]
  },
  {
   "cell_type": "markdown",
   "id": "8a7399f3",
   "metadata": {},
   "source": [
    "Отберём все таксоны, содержащие слово \"virus\""
   ]
  },
  {
   "cell_type": "code",
   "execution_count": null,
   "id": "ace7abf5",
   "metadata": {},
   "outputs": [],
   "source": [
    "virus_df = df[df.taxa_id.str.contains(\"virus\")]"
   ]
  },
  {
   "cell_type": "markdown",
   "id": "0ed51ffb",
   "metadata": {},
   "source": [
    "Выделим \"virus_name\" и \"taxid\" в отдельные столбцы"
   ]
  },
  {
   "cell_type": "code",
   "execution_count": 121,
   "id": "bce91f3f",
   "metadata": {},
   "outputs": [
    {
     "name": "stderr",
     "output_type": "stream",
     "text": [
      "C:\\Users\\Фёдор\\AppData\\Local\\Temp\\ipykernel_12932\\16453385.py:2: FutureWarning: Columnar iteration over characters will be deprecated in future releases.\n",
      "  virus_df[\"virus_name\"], virus_df[\"taxid\"] = virus_df.taxa_id.str.split(\"(\", n=1).str\n",
      "C:\\Users\\Фёдор\\AppData\\Local\\Temp\\ipykernel_12932\\16453385.py:2: SettingWithCopyWarning: \n",
      "A value is trying to be set on a copy of a slice from a DataFrame.\n",
      "Try using .loc[row_indexer,col_indexer] = value instead\n",
      "\n",
      "See the caveats in the documentation: https://pandas.pydata.org/pandas-docs/stable/user_guide/indexing.html#returning-a-view-versus-a-copy\n",
      "  virus_df[\"virus_name\"], virus_df[\"taxid\"] = virus_df.taxa_id.str.split(\"(\", n=1).str\n",
      "C:\\Users\\Фёдор\\AppData\\Local\\Temp\\ipykernel_12932\\16453385.py:2: SettingWithCopyWarning: \n",
      "A value is trying to be set on a copy of a slice from a DataFrame.\n",
      "Try using .loc[row_indexer,col_indexer] = value instead\n",
      "\n",
      "See the caveats in the documentation: https://pandas.pydata.org/pandas-docs/stable/user_guide/indexing.html#returning-a-view-versus-a-copy\n",
      "  virus_df[\"virus_name\"], virus_df[\"taxid\"] = virus_df.taxa_id.str.split(\"(\", n=1).str\n",
      "C:\\Users\\Фёдор\\AppData\\Local\\Temp\\ipykernel_12932\\16453385.py:3: SettingWithCopyWarning: \n",
      "A value is trying to be set on a copy of a slice from a DataFrame.\n",
      "Try using .loc[row_indexer,col_indexer] = value instead\n",
      "\n",
      "See the caveats in the documentation: https://pandas.pydata.org/pandas-docs/stable/user_guide/indexing.html#returning-a-view-versus-a-copy\n",
      "  virus_df.taxid = virus_df.taxid.str[6:-1]\n"
     ]
    }
   ],
   "source": [
    "virus_df[\"virus_name\"], virus_df[\"taxid\"] = virus_df.taxa_id.str.split(\"(\", n=1).str\n",
    "virus_df.taxid = virus_df.taxid.str[6:-1]"
   ]
  },
  {
   "cell_type": "code",
   "execution_count": 122,
   "id": "4059dc77",
   "metadata": {},
   "outputs": [
    {
     "data": {
      "text/html": [
       "<div>\n",
       "<style scoped>\n",
       "    .dataframe tbody tr th:only-of-type {\n",
       "        vertical-align: middle;\n",
       "    }\n",
       "\n",
       "    .dataframe tbody tr th {\n",
       "        vertical-align: top;\n",
       "    }\n",
       "\n",
       "    .dataframe thead th {\n",
       "        text-align: right;\n",
       "    }\n",
       "</style>\n",
       "<table border=\"1\" class=\"dataframe\">\n",
       "  <thead>\n",
       "    <tr style=\"text-align: right;\">\n",
       "      <th></th>\n",
       "      <th>c/u</th>\n",
       "      <th>sequence_id</th>\n",
       "      <th>taxa_id</th>\n",
       "      <th>read_length</th>\n",
       "      <th>map</th>\n",
       "      <th>virus_name</th>\n",
       "      <th>taxid</th>\n",
       "    </tr>\n",
       "  </thead>\n",
       "  <tbody>\n",
       "    <tr>\n",
       "      <th>13</th>\n",
       "      <td>C</td>\n",
       "      <td>SAMN37347010.55</td>\n",
       "      <td>Parus major densovirus (taxid 1907771)</td>\n",
       "      <td>178</td>\n",
       "      <td>1907771:144</td>\n",
       "      <td>Parus major densovirus</td>\n",
       "      <td>1907771</td>\n",
       "    </tr>\n",
       "    <tr>\n",
       "      <th>161</th>\n",
       "      <td>C</td>\n",
       "      <td>SAMN37347010.469</td>\n",
       "      <td>Parus major densovirus (taxid 1907771)</td>\n",
       "      <td>191</td>\n",
       "      <td>0:76 1907771:12 0:69</td>\n",
       "      <td>Parus major densovirus</td>\n",
       "      <td>1907771</td>\n",
       "    </tr>\n",
       "    <tr>\n",
       "      <th>226</th>\n",
       "      <td>C</td>\n",
       "      <td>SAMN37347010.553</td>\n",
       "      <td>Parus major densovirus (taxid 1907771)</td>\n",
       "      <td>161</td>\n",
       "      <td>1907771:56 0:9 1907771:5 0:5 1907771:3 0:10 19...</td>\n",
       "      <td>Parus major densovirus</td>\n",
       "      <td>1907771</td>\n",
       "    </tr>\n",
       "    <tr>\n",
       "      <th>260</th>\n",
       "      <td>C</td>\n",
       "      <td>SAMN37347010.666</td>\n",
       "      <td>Parus major densovirus (taxid 1907771)</td>\n",
       "      <td>164</td>\n",
       "      <td>0:11 1907771:1 0:5 1907771:3 0:5 1907771:105</td>\n",
       "      <td>Parus major densovirus</td>\n",
       "      <td>1907771</td>\n",
       "    </tr>\n",
       "    <tr>\n",
       "      <th>286</th>\n",
       "      <td>C</td>\n",
       "      <td>SAMN37347010.460</td>\n",
       "      <td>Parus major densovirus (taxid 1907771)</td>\n",
       "      <td>204</td>\n",
       "      <td>0:7 1907771:52 0:10 1907771:1 0:12 1907771:1 0...</td>\n",
       "      <td>Parus major densovirus</td>\n",
       "      <td>1907771</td>\n",
       "    </tr>\n",
       "  </tbody>\n",
       "</table>\n",
       "</div>"
      ],
      "text/plain": [
       "    c/u       sequence_id                                 taxa_id  \\\n",
       "13    C   SAMN37347010.55  Parus major densovirus (taxid 1907771)   \n",
       "161   C  SAMN37347010.469  Parus major densovirus (taxid 1907771)   \n",
       "226   C  SAMN37347010.553  Parus major densovirus (taxid 1907771)   \n",
       "260   C  SAMN37347010.666  Parus major densovirus (taxid 1907771)   \n",
       "286   C  SAMN37347010.460  Parus major densovirus (taxid 1907771)   \n",
       "\n",
       "     read_length                                                map  \\\n",
       "13           178                                        1907771:144   \n",
       "161          191                               0:76 1907771:12 0:69   \n",
       "226          161  1907771:56 0:9 1907771:5 0:5 1907771:3 0:10 19...   \n",
       "260          164       0:11 1907771:1 0:5 1907771:3 0:5 1907771:105   \n",
       "286          204  0:7 1907771:52 0:10 1907771:1 0:12 1907771:1 0...   \n",
       "\n",
       "                  virus_name    taxid  \n",
       "13   Parus major densovirus   1907771  \n",
       "161  Parus major densovirus   1907771  \n",
       "226  Parus major densovirus   1907771  \n",
       "260  Parus major densovirus   1907771  \n",
       "286  Parus major densovirus   1907771  "
      ]
     },
     "execution_count": 122,
     "metadata": {},
     "output_type": "execute_result"
    }
   ],
   "source": [
    "virus_df.head()"
   ]
  },
  {
   "cell_type": "markdown",
   "id": "6b59fd2e",
   "metadata": {},
   "source": [
    "Выделим уникальные таксоны вирусов, запишем переменную \"unique_viruses\""
   ]
  },
  {
   "cell_type": "code",
   "execution_count": 3,
   "id": "86385597",
   "metadata": {
    "collapsed": true
   },
   "outputs": [
    {
     "ename": "NameError",
     "evalue": "name 'virus_df' is not defined",
     "output_type": "error",
     "traceback": [
      "\u001b[0;31m---------------------------------------------------------------------------\u001b[0m",
      "\u001b[0;31mNameError\u001b[0m                                 Traceback (most recent call last)",
      "Cell \u001b[0;32mIn[3], line 2\u001b[0m\n\u001b[1;32m      1\u001b[0m \u001b[38;5;66;03m# Выделим уникальные таксоны вирусов\u001b[39;00m\n\u001b[0;32m----> 2\u001b[0m unique_viruses \u001b[38;5;241m=\u001b[39m \u001b[43mvirus_df\u001b[49m[\u001b[38;5;124m\"\u001b[39m\u001b[38;5;124mvirus_name\u001b[39m\u001b[38;5;124m\"\u001b[39m]\u001b[38;5;241m.\u001b[39munique()\n",
      "\u001b[0;31mNameError\u001b[0m: name 'virus_df' is not defined"
     ]
    }
   ],
   "source": [
    "unique_viruses = virus_df[\"virus_name\"].unique()"
   ]
  },
  {
   "cell_type": "markdown",
   "id": "2d53c5c8",
   "metadata": {},
   "source": [
    "Оценим число вирусных прочтений в образце, а также количество уникальных таксонов вирусов"
   ]
  },
  {
   "cell_type": "code",
   "execution_count": 18,
   "id": "09af6512",
   "metadata": {},
   "outputs": [
    {
     "name": "stdout",
     "output_type": "stream",
     "text": [
      "Число вирусных прочтений\n"
     ]
    },
    {
     "data": {
      "text/plain": [
       "405460"
      ]
     },
     "execution_count": 18,
     "metadata": {},
     "output_type": "execute_result"
    }
   ],
   "source": [
    "print(\"Число вирусных прочтений\")\n",
    "len(virus_df[\"virus_name\"])"
   ]
  },
  {
   "cell_type": "code",
   "execution_count": 19,
   "id": "dcb5f2f8",
   "metadata": {},
   "outputs": [
    {
     "name": "stdout",
     "output_type": "stream",
     "text": [
      "Уникальные таксоны вирусов\n"
     ]
    },
    {
     "data": {
      "text/plain": [
       "83"
      ]
     },
     "execution_count": 19,
     "metadata": {},
     "output_type": "execute_result"
    }
   ],
   "source": [
    "print(\"Уникальные таксоны вирусов\")\n",
    "len(unique_viruses)"
   ]
  },
  {
   "cell_type": "markdown",
   "id": "a7d47fab",
   "metadata": {},
   "source": [
    "Сделаем для себя таблицу \"raw_data_annotation.csv\", содержащую столбцы \"virus_name\" и \"taxid\"."
   ]
  },
  {
   "cell_type": "code",
   "execution_count": 5,
   "id": "a0b56562",
   "metadata": {
    "collapsed": true
   },
   "outputs": [
    {
     "ename": "NameError",
     "evalue": "name 'unique_viruses' is not defined",
     "output_type": "error",
     "traceback": [
      "\u001b[0;31m---------------------------------------------------------------------------\u001b[0m",
      "\u001b[0;31mNameError\u001b[0m                                 Traceback (most recent call last)",
      "Cell \u001b[0;32mIn[5], line 5\u001b[0m\n\u001b[1;32m      1\u001b[0m \u001b[38;5;66;03m# Сделаем для себя таблицу, содержащую столбцы virus_name и taxid\u001b[39;00m\n\u001b[1;32m      2\u001b[0m \u001b[38;5;66;03m# Далее эта таблица аннотируется вручную - необходимо получить информацию о семействе вируса и группе хозяев,которые он заражает\u001b[39;00m\n\u001b[1;32m      4\u001b[0m name, taxid \u001b[38;5;241m=\u001b[39m [], []\n\u001b[0;32m----> 5\u001b[0m \u001b[38;5;28;01mfor\u001b[39;00m el \u001b[38;5;129;01min\u001b[39;00m \u001b[43munique_viruses\u001b[49m:\n\u001b[1;32m      6\u001b[0m     tmp \u001b[38;5;241m=\u001b[39m el\u001b[38;5;241m.\u001b[39msplit(\u001b[38;5;124m\"\u001b[39m\u001b[38;5;124m(\u001b[39m\u001b[38;5;124m\"\u001b[39m)\n\u001b[1;32m      7\u001b[0m     name\u001b[38;5;241m.\u001b[39mappend(tmp[\u001b[38;5;241m0\u001b[39m][:\u001b[38;5;241m-\u001b[39m\u001b[38;5;241m1\u001b[39m])\n",
      "\u001b[0;31mNameError\u001b[0m: name 'unique_viruses' is not defined"
     ]
    }
   ],
   "source": [
    "name, taxid = [], []\n",
    "for el in unique_viruses:\n",
    "    tmp = el.split(\"(\")\n",
    "    name.append(tmp[0][:-1])\n",
    "    taxid.append(int(tmp[1][6:-1]))\n",
    "    \n",
    "out = pd.DataFrame(columns=[\"virus_name\", \"taxid\"])\n",
    "out.virus_name, out.taxid = name, taxid\n",
    "\n",
    "out.to_csv(\"D:\\\\host_predicition\\\\raw_data\\\\raw_data_annotation.csv\", sep=\",\")"
   ]
  },
  {
   "cell_type": "markdown",
   "id": "2e1de95d",
   "metadata": {},
   "source": [
    "Далее таблица \"raw_data_annotation.csv\" аннотируется вручную - необходимо получить информацию о семействах вирусов, типе нуклеиновой кислоты (ss/ds;RNA(+/-)/DNA) и группе хозяев, которых они заражают."
   ]
  },
  {
   "cell_type": "markdown",
   "id": "7d136897",
   "metadata": {},
   "source": [
    "# Annotated data"
   ]
  },
  {
   "cell_type": "markdown",
   "id": "3218a90c",
   "metadata": {},
   "source": [
    "На этом этапе работаем с проаннотированной таблицей \"raw_data_annotation.csv\"\n",
    "(в открытом доступе https://docs.google.com/spreadsheets/d/1OB3UgJP7BvJG4K9QjNpSYP3HikrTcYF2qJU5odcgGYg/edit?usp=sharing)\n",
    "\n",
    "taxid РНК-вирусов выделяется в переменную ids."
   ]
  },
  {
   "cell_type": "code",
   "execution_count": 115,
   "id": "de4f662f",
   "metadata": {},
   "outputs": [],
   "source": [
    "df_annotation = pd.read_csv(\"D:\\\\host_predicition\\\\raw_data\\\\raw_data_annotation.csv\", sep=\",\")\n",
    "ids = df_annotation[df_annotation.nucleic_acid.str.contains(\"RNA\", na=False)].taxid.astype(\"str\").values"
   ]
  },
  {
   "cell_type": "markdown",
   "id": "021a7b83",
   "metadata": {},
   "source": [
    "Отбираем все индексы прочтений по колонке taxid, которые принадлежат РНК-вирусам\n",
    "\n",
    "Для данного метагеномного сэмпла (SAMN37347010) получилось так, что все РНК-вирусы заражают лишь исследуемые группы хозяев - млекопитающих, растения и насекомых. Поэтому фильтра по хозяевам нет, можно добавить в будущем, если понадобится.\n",
    "Тем более, в результате собрались контиги всего лишь трёх РНК-вирусов, которые 100% заражают лишь млеков и растения"
   ]
  },
  {
   "cell_type": "code",
   "execution_count": 130,
   "id": "eeff3b80",
   "metadata": {},
   "outputs": [],
   "source": [
    "rna_virus_reads_ids = virus_df.set_index(\"taxid\", drop=True).loc[ids].sequence_id.values"
   ]
  },
  {
   "cell_type": "markdown",
   "id": "66fd2beb",
   "metadata": {},
   "source": [
    "В переменной \"rna_virus_reads_ids\" содержатся индексы прочтений РНК-вирусов, заражающих млекопитающих, растения и насекомых"
   ]
  },
  {
   "cell_type": "code",
   "execution_count": 131,
   "id": "e02db574",
   "metadata": {},
   "outputs": [
    {
     "data": {
      "text/plain": [
       "array(['SAMN37347010.1530', 'SAMN37347010.2261', 'SAMN37347010.4134', ...,\n",
       "       'SAMN37347010.26400958', 'SAMN37347010.34260649',\n",
       "       'SAMN37347010.30561442'], dtype=object)"
      ]
     },
     "execution_count": 131,
     "metadata": {},
     "output_type": "execute_result"
    }
   ],
   "source": [
    "rna_virus_reads_ids"
   ]
  },
  {
   "cell_type": "code",
   "execution_count": 128,
   "id": "9f1dbca7",
   "metadata": {},
   "outputs": [
    {
     "name": "stdout",
     "output_type": "stream",
     "text": [
      "Число прочтений РНК-вирусов, заражающих млекопитающих, растения или насекомых: 11925\n"
     ]
    }
   ],
   "source": [
    "print(\"Число прочтений РНК-вирусов, заражающих млекопитающих, растения или насекомых:\", len(rna_virus_reads_ids))"
   ]
  },
  {
   "cell_type": "markdown",
   "id": "d05a4d4a",
   "metadata": {},
   "source": [
    "# Parse fastq.gz file to extract RNA viral reads"
   ]
  },
  {
   "cell_type": "markdown",
   "id": "1b021d83",
   "metadata": {},
   "source": [
    "Парсим файл с прочтениями, сохраняем лишь по индексу из переменной rna_virus_reads_ids"
   ]
  },
  {
   "cell_type": "code",
   "execution_count": 132,
   "id": "0d68135b",
   "metadata": {},
   "outputs": [],
   "source": [
    "with open(\"D:\\\\host_predicition\\\\raw_data\\\\rna_viral_reads.fastq\", \"w\") as output_file:\n",
    "    for seq in SeqIO.parse(gzip.open(file_path_fastq, \"rt\"), \"fastq\"):\n",
    "        if seq.id in rna_virus_reads_ids:\n",
    "            SeqIO.write(seq, output_file, \"fastq\")"
   ]
  },
  {
   "cell_type": "markdown",
   "id": "597af79f",
   "metadata": {},
   "source": [
    "# Trash"
   ]
  },
  {
   "cell_type": "code",
   "execution_count": 73,
   "id": "e79bf2a4",
   "metadata": {},
   "outputs": [
    {
     "name": "stderr",
     "output_type": "stream",
     "text": [
      "C:\\Users\\Фёдор\\AppData\\Local\\Temp\\ipykernel_12932\\2989797323.py:2: SettingWithCopyWarning: \n",
      "A value is trying to be set on a copy of a slice from a DataFrame.\n",
      "Try using .loc[row_indexer,col_indexer] = value instead\n",
      "\n",
      "See the caveats in the documentation: https://pandas.pydata.org/pandas-docs/stable/user_guide/indexing.html#returning-a-view-versus-a-copy\n",
      "  virus_df[\"virus_name\"] = virus_df.taxa_id.str.extract(regex).virus_name.str[:-2]\n",
      "C:\\Users\\Фёдор\\AppData\\Local\\Temp\\ipykernel_12932\\2989797323.py:5: SettingWithCopyWarning: \n",
      "A value is trying to be set on a copy of a slice from a DataFrame.\n",
      "Try using .loc[row_indexer,col_indexer] = value instead\n",
      "\n",
      "See the caveats in the documentation: https://pandas.pydata.org/pandas-docs/stable/user_guide/indexing.html#returning-a-view-versus-a-copy\n",
      "  virus_df[\"taxid\"] = virus_df.taxa_id.str.extract(regex).taxid\n"
     ]
    }
   ],
   "source": [
    "regex = (r\"(?P<virus_name>.*\\()\")\n",
    "virus_df[\"virus_name\"] = virus_df.taxa_id.str.extract(regex).virus_name.str[:-2]\n",
    "\n",
    "regex = (r\"(?P<taxid>[0-9]+)\")\n",
    "virus_df[\"taxid\"] = virus_df.taxa_id.str.extract(regex).taxid"
   ]
  }
 ],
 "metadata": {
  "kernelspec": {
   "display_name": "Python 3 (ipykernel)",
   "language": "python",
   "name": "python3"
  },
  "language_info": {
   "codemirror_mode": {
    "name": "ipython",
    "version": 3
   },
   "file_extension": ".py",
   "mimetype": "text/x-python",
   "name": "python",
   "nbconvert_exporter": "python",
   "pygments_lexer": "ipython3",
   "version": "3.9.13"
  }
 },
 "nbformat": 4,
 "nbformat_minor": 5
}
